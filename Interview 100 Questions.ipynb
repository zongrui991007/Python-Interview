{
 "cells": [
  {
   "cell_type": "raw",
   "id": "471ab6e0",
   "metadata": {},
   "source": [
    "1"
   ]
  },
  {
   "cell_type": "code",
   "execution_count": 17,
   "id": "6058f099",
   "metadata": {},
   "outputs": [],
   "source": [
    "import array\n",
    "array_demo = array.array('i')"
   ]
  },
  {
   "cell_type": "code",
   "execution_count": 18,
   "id": "cfbec8b6",
   "metadata": {},
   "outputs": [
    {
     "data": {
      "text/plain": [
       "array.array"
      ]
     },
     "execution_count": 18,
     "metadata": {},
     "output_type": "execute_result"
    }
   ],
   "source": [
    "type(array_demo)"
   ]
  },
  {
   "cell_type": "code",
   "execution_count": 19,
   "id": "21edb1e8",
   "metadata": {},
   "outputs": [
    {
     "data": {
      "text/plain": [
       "array('i')"
      ]
     },
     "execution_count": 19,
     "metadata": {},
     "output_type": "execute_result"
    }
   ],
   "source": [
    "array_demo"
   ]
  },
  {
   "cell_type": "markdown",
   "id": "fe41ec78",
   "metadata": {},
   "source": [
    "2"
   ]
  },
  {
   "cell_type": "code",
   "execution_count": 26,
   "id": "5578e402",
   "metadata": {},
   "outputs": [],
   "source": [
    "import random"
   ]
  },
  {
   "cell_type": "code",
   "execution_count": 27,
   "id": "811f815e",
   "metadata": {},
   "outputs": [
    {
     "name": "stdout",
     "output_type": "stream",
     "text": [
      "['In', 'To', 'Loves', 'He', 'Code', 'Python']\n"
     ]
    }
   ],
   "source": [
    "List = ['He', 'Loves', 'To', 'Code', 'In', 'Python']\n",
    "random.shuffle(List)\n",
    "print(List)"
   ]
  },
  {
   "cell_type": "markdown",
   "id": "323dc908",
   "metadata": {},
   "source": [
    "3"
   ]
  },
  {
   "cell_type": "markdown",
   "id": "6a72b58b",
   "metadata": {},
   "source": [
    "split(): This method is used to split a given string into a list.\n",
    "sub(): This method is used to find a substring where a regex pattern matches,   \n",
    "       and then it replaces the matched substring with a different string.\n",
    "subn(): This method is similar to the sub() method, but it returns the new string,\n",
    "        along with the number of replacements."
   ]
  },
  {
   "cell_type": "code",
   "execution_count": 28,
   "id": "866341b7",
   "metadata": {},
   "outputs": [
    {
     "name": "stdout",
     "output_type": "stream",
     "text": [
      "I xm x humxn being.\n",
      "x xm x humxn being.\n",
      "I am a human being.\n"
     ]
    }
   ],
   "source": [
    "# Importing re module\n",
    "import re\n",
    "\n",
    "# Given String\n",
    "s = \"I am a human being.\"\n",
    "\n",
    "# Performing Sub() operation\n",
    "res_1 = re.sub('a', 'x', s)\n",
    "res_2 = re.sub('[a,I]','x',s)\n",
    "\n",
    "# Print Results\n",
    "print(res_1)\n",
    "print(res_2)\n",
    "\n",
    "# The original string remains unchanged\n",
    "print(s)\n",
    "\n",
    "#In we used the re.sub() function to replace all the instances of a with x in the string s.\n",
    "#In we used the re.sub() function to replace all the instances of a and I with x in the string s."
   ]
  },
  {
   "cell_type": "markdown",
   "id": "7175e6f1",
   "metadata": {},
   "source": [
    "4"
   ]
  },
  {
   "cell_type": "code",
   "execution_count": 36,
   "id": "268bb7cf",
   "metadata": {},
   "outputs": [
    {
     "data": {
      "text/plain": [
       "[4, 9, 16, 25]"
      ]
     },
     "execution_count": 36,
     "metadata": {},
     "output_type": "execute_result"
    }
   ],
   "source": [
    "def calculateSq(n):\n",
    "    return n*n\n",
    "numbers = (2, 3, 4, 5)\n",
    "result = map( calculateSq, numbers)\n",
    "list(result)\n",
    "#The map() function takes a function as an argument and then applies that function to all the elements of an iterable, \n",
    "#passed to it as another argument. \n",
    "#It returns an object list of results"
   ]
  },
  {
   "cell_type": "code",
   "execution_count": 35,
   "id": "5b831899",
   "metadata": {},
   "outputs": [
    {
     "name": "stdout",
     "output_type": "stream",
     "text": [
      "[2, 4, 6, 8]\n"
     ]
    }
   ],
   "source": [
    "def addition(n):\n",
    "    return n + n\n",
    "  \n",
    "# We double all numbers using map()\n",
    "numbers = (1, 2, 3, 4)\n",
    "result = map(addition, numbers)\n",
    "print(list(result))"
   ]
  },
  {
   "cell_type": "markdown",
   "id": "09e03cce",
   "metadata": {},
   "source": [
    "5 36"
   ]
  },
  {
   "cell_type": "code",
   "execution_count": 37,
   "id": "34888c3f",
   "metadata": {},
   "outputs": [
    {
     "data": {
      "text/plain": [
       "[4, 9, 25, 49, 121]"
      ]
     },
     "execution_count": 37,
     "metadata": {},
     "output_type": "execute_result"
    }
   ],
   "source": [
    "my_list = [2, 3, 5, 7, 11]\n",
    "squared_list = [x**2 for x in my_list] \n",
    "squared_list"
   ]
  },
  {
   "cell_type": "code",
   "execution_count": 38,
   "id": "af313dfc",
   "metadata": {},
   "outputs": [
    {
     "data": {
      "text/plain": [
       "{2: 4, 3: 9, 5: 25, 7: 49, 11: 121}"
      ]
     },
     "execution_count": 38,
     "metadata": {},
     "output_type": "execute_result"
    }
   ],
   "source": [
    "squared_dict = {x:x**2 for x in my_list} \n",
    "squared_dict"
   ]
  },
  {
   "cell_type": "code",
   "execution_count": null,
   "id": "feafc954",
   "metadata": {},
   "outputs": [],
   "source": []
  },
  {
   "cell_type": "code",
   "execution_count": 40,
   "id": "25822b8d",
   "metadata": {},
   "outputs": [
    {
     "name": "stdout",
     "output_type": "stream",
     "text": [
      "[0, 1, 2, 3, 4, 5, 6, 7, 8, 9]\n"
     ]
    }
   ],
   "source": [
    "a=[]\n",
    "for i in range(10):\n",
    "    a.append(i)\n",
    "print(a)"
   ]
  },
  {
   "cell_type": "markdown",
   "id": "8fe7c68d",
   "metadata": {},
   "source": [
    "40"
   ]
  },
  {
   "cell_type": "markdown",
   "id": "370f949e",
   "metadata": {},
   "source": [
    "Pickle module accepts the Python object and converts it into a string representation and stores it into a file by using the dump function. \n",
    "the process of retrieving the original Python objects from the string representation is called unpickling."
   ]
  },
  {
   "cell_type": "markdown",
   "id": "4c5b0735",
   "metadata": {},
   "source": [
    "pickle"
   ]
  },
  {
   "cell_type": "code",
   "execution_count": 42,
   "id": "efc5aa49",
   "metadata": {},
   "outputs": [
    {
     "name": "stdout",
     "output_type": "stream",
     "text": [
      "PICKLE: b'\\x80\\x04\\x95#\\x00\\x00\\x00\\x00\\x00\\x00\\x00]\\x94}\\x94(\\x8c\\x01a\\x94\\x8c\\x01A\\x94\\x8c\\x01b\\x94K\\x02\\x8c\\x01c\\x94G@\\x08\\x00\\x00\\x00\\x00\\x00\\x00ua.'\n"
     ]
    }
   ],
   "source": [
    "import pickle\n",
    " \n",
    "data = [ { 'a':'A', 'b':2, 'c':3.0 } ]\n",
    "data_string = pickle.dumps(data)\n",
    "print ('PICKLE:', data_string )"
   ]
  },
  {
   "cell_type": "code",
   "execution_count": 43,
   "id": "4cab1789",
   "metadata": {},
   "outputs": [
    {
     "name": "stdout",
     "output_type": "stream",
     "text": [
      "BEFORE:\n",
      "[{'a': 'A', 'b': 2, 'c': 3.0}]\n",
      "AFTER:\n",
      "[{'a': 'A', 'b': 2, 'c': 3.0}]\n",
      "SAME?: False\n",
      "EQUAL?: True\n"
     ]
    }
   ],
   "source": [
    "# Python program to illustrate\n",
    "# pickle.loads()\n",
    "import pickle\n",
    "import pprint\n",
    " \n",
    "data1 = [ { 'a':'A', 'b':2, 'c':3.0 } ]\n",
    "print ('BEFORE:',)\n",
    "pprint.pprint(data1)\n",
    " \n",
    "data1_string = pickle.dumps(data1)\n",
    " \n",
    "data2 = pickle.loads(data1_string)\n",
    "print ('AFTER:',)\n",
    "pprint.pprint(data2)\n",
    " \n",
    "print ('SAME?:', (data1 is data2))\n",
    "print ('EQUAL?:', (data1 == data2))"
   ]
  },
  {
   "cell_type": "markdown",
   "id": "6028a442",
   "metadata": {},
   "source": [
    "41\n",
    "Tkinter is a built-in Python module that is used to create GUI applications. It is Python’s standard toolkit for GUI development. "
   ]
  },
  {
   "cell_type": "markdown",
   "id": "cef4ba1c",
   "metadata": {},
   "source": [
    "45\n",
    "Python comes with some file-related modules that have functions to manipulate text files and binary files in a file system. These modules can be used to create text or binary files, update their content, copy, delete, and more.\n",
    "\n",
    "Some file-related modules are os, os.path, and shutil.os. The os.path module has functions to access the file system, while the shutil.os module can be used to copy or delete files."
   ]
  },
  {
   "cell_type": "markdown",
   "id": "8db8934d",
   "metadata": {},
   "source": [
    "46\n",
    "In Python, using the ‘with’ statement, we can open a file and close it as soon as the block of code, where ‘with’ is used, exits. In this way, we can opt for not using the close() method."
   ]
  },
  {
   "cell_type": "code",
   "execution_count": null,
   "id": "42093bd1",
   "metadata": {},
   "outputs": [],
   "source": [
    "#with open(\"filename\", \"mode\") as file_var:"
   ]
  },
  {
   "cell_type": "markdown",
   "id": "b6bf3538",
   "metadata": {},
   "source": [
    "47 \n",
    "To display the contents of a file in reverse, the following code can be used:\n",
    "for line in reversed(list(open(filename.txt))):\n",
    "print(line.rstrip())"
   ]
  },
  {
   "cell_type": "code",
   "execution_count": null,
   "id": "c080d12a",
   "metadata": {},
   "outputs": [],
   "source": [
    "#51\n",
    "args: It is used to pass multiple arguments in a function.\n",
    "kwargs: It is used to pass multiple keyworded arguments in a function in python.\n",
    "*args (Non-Keyword Arguments)\n",
    "**kwargs (Keyword Arguments)"
   ]
  },
  {
   "cell_type": "code",
   "execution_count": 45,
   "id": "2a8b129c",
   "metadata": {},
   "outputs": [
    {
     "name": "stdout",
     "output_type": "stream",
     "text": [
      "Hello\n",
      "Welcome\n",
      "to\n",
      "GeeksforGeeks\n"
     ]
    }
   ],
   "source": [
    "\n",
    "def myFun(*argv):\n",
    "    for arg in argv:\n",
    "        print(arg)\n",
    " \n",
    " \n",
    "myFun('Hello', 'Welcome', 'to', 'GeeksforGeeks')"
   ]
  },
  {
   "cell_type": "code",
   "execution_count": 46,
   "id": "cd2435ba",
   "metadata": {},
   "outputs": [
    {
     "name": "stdout",
     "output_type": "stream",
     "text": [
      "first == Geeks\n",
      "mid == for\n",
      "last == Geeks\n"
     ]
    }
   ],
   "source": [
    "def myFun(**kwargs):\n",
    "    for key, value in kwargs.items():\n",
    "        print(\"%s == %s\" % (key, value))\n",
    " \n",
    " \n",
    "# Driver code\n",
    "myFun(first='Geeks', mid='for', last='Geeks')\n"
   ]
  },
  {
   "cell_type": "code",
   "execution_count": 49,
   "id": "e2f67c12",
   "metadata": {},
   "outputs": [
    {
     "name": "stdout",
     "output_type": "stream",
     "text": [
      "arg1: Geeks\n",
      "arg2: for\n",
      "arg3: Geeks\n"
     ]
    }
   ],
   "source": [
    "def myFun(arg1, arg2, arg3):\n",
    "    print(\"arg1:\", arg1)\n",
    "    print(\"arg2:\", arg2)\n",
    "    print(\"arg3:\", arg3)\n",
    " \n",
    " \n",
    "# Now we can use *args or **kwargs to\n",
    "# pass arguments to this function :\n",
    "args = (\"Geeks\", \"for\", \"Geeks\")\n",
    "myFun(*args)\n",
    " \n"
   ]
  },
  {
   "cell_type": "code",
   "execution_count": 50,
   "id": "4c1152d3",
   "metadata": {},
   "outputs": [
    {
     "name": "stdout",
     "output_type": "stream",
     "text": [
      "arg1: Geeks\n",
      "arg2: for\n",
      "arg3: Geeks\n"
     ]
    }
   ],
   "source": [
    "kwargs = {\"arg1\": \"Geeks\", \"arg2\": \"for\", \"arg3\": \"Geeks\"}\n",
    "myFun(**kwargs)"
   ]
  },
  {
   "cell_type": "code",
   "execution_count": 51,
   "id": "c5c87be9",
   "metadata": {},
   "outputs": [
    {
     "name": "stdout",
     "output_type": "stream",
     "text": [
      "args:  ('geeks', 'for', 'geeks')\n",
      "kwargs:  {'first': 'Geeks', 'mid': 'for', 'last': 'Geeks'}\n"
     ]
    }
   ],
   "source": [
    "def myFun(*args, **kwargs):\n",
    "    print(\"args: \", args)\n",
    "    print(\"kwargs: \", kwargs)\n",
    " \n",
    " \n",
    "# Now we can use both *args ,**kwargs\n",
    "# to pass arguments to this function :\n",
    "myFun('geeks', 'for', 'geeks', first=\"Geeks\", mid=\"for\", last=\"Geeks\")"
   ]
  },
  {
   "cell_type": "code",
   "execution_count": null,
   "id": "5e47d4ec",
   "metadata": {},
   "outputs": [],
   "source": []
  },
  {
   "cell_type": "code",
   "execution_count": null,
   "id": "01a7b0f4",
   "metadata": {},
   "outputs": [],
   "source": [
    "#53 delete a file"
   ]
  },
  {
   "cell_type": "code",
   "execution_count": null,
   "id": "c88335ba",
   "metadata": {},
   "outputs": [],
   "source": [
    "import os\n",
    "os.remove(\"file_name.txt\")"
   ]
  },
  {
   "cell_type": "code",
   "execution_count": null,
   "id": "eecb1f25",
   "metadata": {},
   "outputs": [],
   "source": [
    "#54. How will you read a random line in a file?"
   ]
  },
  {
   "cell_type": "code",
   "execution_count": null,
   "id": "71322b47",
   "metadata": {},
   "outputs": [],
   "source": [
    "import random\n",
    "def read_random(fname):\n",
    "    lines = open(fname).read().splitlines()\n",
    "    return random.choice(lines)\n",
    "\n",
    "print(read_random (‘hello.txt’))"
   ]
  },
  {
   "cell_type": "code",
   "execution_count": null,
   "id": "133e4793",
   "metadata": {},
   "outputs": [],
   "source": [
    "#55. Write a Python program to count the total number of lines in a text file?"
   ]
  },
  {
   "cell_type": "code",
   "execution_count": null,
   "id": "42c3386a",
   "metadata": {},
   "outputs": [],
   "source": [
    "def file_count(fname):\n",
    "with open(fname) as f:\n",
    "    for i, 1 in enumerate(f):\n",
    "        pass\n",
    "    return i+1\n",
    "print(“Total number of lines in the text file: ”, file_count(“file.txt”))"
   ]
  },
  {
   "cell_type": "markdown",
   "id": "964aaa10",
   "metadata": {},
   "source": [
    "#58. Whenever Python exits, why isn’t all the memory de-allocated?\n",
    "Whenever Python exits, especially those Python modules which are having circular references to other objects or the objects that are referenced from the global namespaces are not always de-allocated or freed.\n",
    "It is not possible to de-allocate those portions of memory that are reserved by the C library.\n",
    "On exit, because of having its own efficient clean up mechanism, Python would try to de-allocate every object."
   ]
  },
  {
   "cell_type": "code",
   "execution_count": null,
   "id": "a276f583",
   "metadata": {},
   "outputs": [],
   "source": [
    "#60 How to add values to a python array"
   ]
  },
  {
   "cell_type": "code",
   "execution_count": 54,
   "id": "f621f066",
   "metadata": {},
   "outputs": [],
   "source": [
    "import array as arr"
   ]
  },
  {
   "cell_type": "code",
   "execution_count": 55,
   "id": "20b8e235",
   "metadata": {},
   "outputs": [
    {
     "name": "stdout",
     "output_type": "stream",
     "text": [
      "array('d', [11.1, 2.1, 3.1, 10.1])\n",
      "array('d', [11.1, 2.1, 3.1, 10.1, 8.3, 1.3, 5.3])\n",
      "array('d', [11.1, 2.1, 6.2, 3.1, 10.1, 8.3, 1.3, 5.3])\n"
     ]
    }
   ],
   "source": [
    "x=arr.array('d', [11.1 , 2.1 ,3.1] )\n",
    "x.append(10.1)\n",
    "print(x)   #[11.1,2.1,3.1,10.1]\n",
    "x.extend([8.3,1.3,5.3])\n",
    "print(x)  #[11.1,2.1,3.1,10.1,8.3,1.3,5.3]\n",
    "x.insert(2,6.2)\n",
    "print(x)        # [11.1,2.1,6.2,3.1,10.1,8.3,1.3,5.3]"
   ]
  },
  {
   "cell_type": "code",
   "execution_count": 56,
   "id": "4b4d3d90",
   "metadata": {},
   "outputs": [],
   "source": [
    "#61 How to remove values to a python array"
   ]
  },
  {
   "cell_type": "code",
   "execution_count": 57,
   "id": "2fbeb30f",
   "metadata": {},
   "outputs": [
    {
     "name": "stdout",
     "output_type": "stream",
     "text": [
      "3.6\n",
      "1.1\n",
      "array('d', [2.4, 6.8, 7.7, 1.2])\n"
     ]
    }
   ],
   "source": [
    "x=arr.array('d', [8.1, 2.4, 6.8, 1.1, 7.7, 1.2, 3.6])\n",
    "print(x.pop())\n",
    "print(x.pop(3))\n",
    "x.remove(8.1)\n",
    "print(x)"
   ]
  },
  {
   "cell_type": "code",
   "execution_count": null,
   "id": "7f219dd9",
   "metadata": {},
   "outputs": [],
   "source": [
    "#62. Write a code to sort a numerical list in Python?"
   ]
  },
  {
   "cell_type": "code",
   "execution_count": 60,
   "id": "0fd177ed",
   "metadata": {},
   "outputs": [
    {
     "name": "stdout",
     "output_type": "stream",
     "text": [
      "[1, 2, 3, 5]\n"
     ]
    }
   ],
   "source": [
    "list = ['2','5','1','3']\n",
    "list = [int(i) for i in list]\n",
    "list.sort()\n",
    "print (list)"
   ]
  },
  {
   "cell_type": "code",
   "execution_count": 61,
   "id": "029b55af",
   "metadata": {},
   "outputs": [
    {
     "name": "stdout",
     "output_type": "stream",
     "text": [
      "[1, 2, 2, 3, 4, 5]\n"
     ]
    }
   ],
   "source": [
    "list = [2,3,4,5,1,2]\n",
    "list = [int(i) for i in list]\n",
    "list.sort()\n",
    "print (list)"
   ]
  },
  {
   "cell_type": "code",
   "execution_count": null,
   "id": "c0c5d5ce",
   "metadata": {},
   "outputs": [],
   "source": [
    "#63 Can you write an efficient code to count the number of capital letters in a file?"
   ]
  },
  {
   "cell_type": "markdown",
   "id": "2a1c1702",
   "metadata": {},
   "source": [
    "letters = set()\n",
    "with open('demo.txt') as countletter:\n",
    "    count = 0\n",
    "    text = countletter.read()\n",
    "    for character in text:\n",
    "        if character.isupper():\n",
    "            count += 1\n",
    "            letters.add(character)\n",
    "print(count)"
   ]
  },
  {
   "cell_type": "code",
   "execution_count": null,
   "id": "dcb2675f",
   "metadata": {},
   "outputs": [],
   "source": [
    "#64 reverse a list in python"
   ]
  },
  {
   "cell_type": "markdown",
   "id": "ca9f9bca",
   "metadata": {},
   "source": [
    "list.reverse()"
   ]
  },
  {
   "cell_type": "code",
   "execution_count": 63,
   "id": "ccdedf59",
   "metadata": {},
   "outputs": [],
   "source": [
    "#65 remove the last object from a list in python\n"
   ]
  },
  {
   "cell_type": "code",
   "execution_count": null,
   "id": "569a8937",
   "metadata": {},
   "outputs": [],
   "source": [
    "list.pop(obj=list[-1])"
   ]
  },
  {
   "cell_type": "code",
   "execution_count": null,
   "id": "01e22142",
   "metadata": {},
   "outputs": [],
   "source": [
    "#66. How can you generate random numbers in Python?\n",
    "#This achieved with importing the random module,it is the module that is used to generate random numbers 0-1"
   ]
  },
  {
   "cell_type": "code",
   "execution_count": 65,
   "id": "a4f7a5f7",
   "metadata": {},
   "outputs": [
    {
     "name": "stdout",
     "output_type": "stream",
     "text": [
      "0.21079237115409188\n"
     ]
    }
   ],
   "source": [
    "import random\n",
    "print(random.random())"
   ]
  },
  {
   "cell_type": "code",
   "execution_count": null,
   "id": "043638e0",
   "metadata": {},
   "outputs": [],
   "source": [
    "#67. How will you convert a string to all lowercase?"
   ]
  },
  {
   "cell_type": "code",
   "execution_count": 66,
   "id": "bec80d32",
   "metadata": {},
   "outputs": [
    {
     "name": "stdout",
     "output_type": "stream",
     "text": [
      "roses\n"
     ]
    }
   ],
   "source": [
    "demo_string='ROSES'\n",
    "print(demo_string.lower())"
   ]
  },
  {
   "cell_type": "markdown",
   "id": "a4a8f2c5",
   "metadata": {},
   "source": [
    "68. Why would you use NumPy arrays instead of lists in Python?\n",
    "NumPy arrays provide users with three main advantages as shown below:\n",
    "\n",
    "NumPy arrays consume a lot less memory, thereby making the code more efficient.\n",
    "NumPy arrays execute faster and do not add heavy processing to the runtime.\n",
    "NumPy has a highly readable syntax, making it easy and convenient for programmers."
   ]
  },
  {
   "cell_type": "markdown",
   "id": "07d7d989",
   "metadata": {},
   "source": [
    "69 What is Polymorphism?\n",
    "Polymorphism is taken from the Greek words Poly (many) and morphism (forms). It means that the same function name can be used for different types. This makes programming more intuitive and easier."
   ]
  },
  {
   "cell_type": "code",
   "execution_count": null,
   "id": "b953859f",
   "metadata": {},
   "outputs": [],
   "source": []
  },
  {
   "cell_type": "code",
   "execution_count": null,
   "id": "367cd1b7",
   "metadata": {},
   "outputs": [],
   "source": []
  },
  {
   "cell_type": "markdown",
   "id": "e57a2ba1",
   "metadata": {},
   "source": [
    "70 Define encapsulation in Python?\n",
    "encapsulation in Python refers to the process of wrapping up the variables and different functions into a single entity or capsule.Python class is the best example of encapsulation in python.\n",
    "\n",
    "Encapsulation in Python describes the concept of bundling data and methods within a single unit. So, for example, when you create a class, it means you are implementing encapsulation. A class is an example of encapsulation as it binds all the data members (instance variables) and methods into a single unit."
   ]
  },
  {
   "cell_type": "code",
   "execution_count": 67,
   "id": "383c8ae4",
   "metadata": {},
   "outputs": [
    {
     "name": "stdout",
     "output_type": "stream",
     "text": [
      "Name:  Jessa Salary: 8000\n",
      "Jessa is working on NLP\n"
     ]
    }
   ],
   "source": [
    "class Employee:\n",
    "    # constructor\n",
    "    def __init__(self, name, salary, project):\n",
    "        # data members\n",
    "        self.name = name\n",
    "        self.salary = salary\n",
    "        self.project = project\n",
    "\n",
    "    # method\n",
    "    # to display employee's details\n",
    "    def show(self):\n",
    "        # accessing public data member\n",
    "        print(\"Name: \", self.name, 'Salary:', self.salary)\n",
    "\n",
    "    # method\n",
    "    def work(self):\n",
    "        print(self.name, 'is working on', self.project)\n",
    "\n",
    "# creating object of a class\n",
    "emp = Employee('Jessa', 8000, 'NLP')\n",
    "\n",
    "# calling public method of the class\n",
    "emp.show()\n",
    "emp.work()"
   ]
  },
  {
   "cell_type": "code",
   "execution_count": null,
   "id": "ac30f464",
   "metadata": {},
   "outputs": [],
   "source": [
    "#72. What is the lambda function in Python?\n"
   ]
  },
  {
   "cell_type": "code",
   "execution_count": 69,
   "id": "0c781a9c",
   "metadata": {},
   "outputs": [
    {
     "name": "stdout",
     "output_type": "stream",
     "text": [
      "30\n"
     ]
    }
   ],
   "source": [
    "l = lambda x,y : x*y\n",
    "print(l(5, 6))"
   ]
  },
  {
   "cell_type": "code",
   "execution_count": null,
   "id": "67d1ae54",
   "metadata": {},
   "outputs": [],
   "source": [
    "#73. What is self in Python?\n"
   ]
  },
  {
   "cell_type": "markdown",
   "id": "e3f563a4",
   "metadata": {},
   "source": [
    "Self is an object or an instance of a class. This is explicitly included as the first parameter in Python. On the other hand, in Java it is optional. It helps differentiate between the methods and attributes of a class with local variables.\n",
    "\n",
    "The self variable in the init method refers to the newly created object, while in other methods, it refers to the object whose method was called."
   ]
  },
  {
   "cell_type": "code",
   "execution_count": null,
   "id": "ffa878ce",
   "metadata": {},
   "outputs": [],
   "source": [
    "#74. What is the difference between append() and extend() methods?"
   ]
  },
  {
   "cell_type": "markdown",
   "id": "0bf138fb",
   "metadata": {},
   "source": [
    "Both append() and extend() methods are methods used to add elements at the end of a list.\n",
    "\n",
    "append(element): Adds the given element at the end of the list that called this append() method\n",
    "extend(another-list): Adds the elements of another list at the end of the list that called this extend() method"
   ]
  },
  {
   "cell_type": "code",
   "execution_count": null,
   "id": "ce0d6fc1",
   "metadata": {},
   "outputs": [],
   "source": [
    "#75. How does Python Flask handle database requests?\n"
   ]
  },
  {
   "cell_type": "markdown",
   "id": "e4c03bfc",
   "metadata": {},
   "source": [
    "Flask supports a database-powered application (RDBS). Such a system requires creating a schema, which needs piping the schema.sql file into the sqlite3 command. Python developers need to install the sqlite3 command to create or initiate the database in Flask."
   ]
  },
  {
   "cell_type": "code",
   "execution_count": null,
   "id": "db694bf1",
   "metadata": {},
   "outputs": [],
   "source": [
    "#77. How is Multithreading achieved in Python?\n"
   ]
  },
  {
   "cell_type": "markdown",
   "id": "f1898f9e",
   "metadata": {},
   "source": [
    "Python has a multi-threading package ,but commonly not considered as good practice to use it as it will result in increased code execution time.\n",
    "\n",
    "Python has a constructor called the Global Interpreter Lock (GIL). The GIL ensures that only one of your ‘threads’ can execute at one time.The process makes sure that a thread acquires the GIL, does a little work, then passes the GIL onto the next thread.\n",
    "\n",
    "This happens at a very Quick instance of time and that’s why to the human eye it seems like your threads are executing parallely, but in reality they are executing one by one by just taking turns using the same CPU core."
   ]
  },
  {
   "cell_type": "code",
   "execution_count": 71,
   "id": "d7d76f60",
   "metadata": {},
   "outputs": [
    {
     "name": "stdout",
     "output_type": "stream",
     "text": [
      "Square: 400\n",
      "Cube: 1000\n",
      "Done!\n"
     ]
    }
   ],
   "source": [
    "# Python program to illustrate the concept\n",
    "# of threading\n",
    "# importing the threading module\n",
    "import threading\n",
    " \n",
    " \n",
    "def print_cube(num):\n",
    "    # function to print cube of given num\n",
    "    print(\"Cube: {}\" .format(num * num * num))\n",
    " \n",
    " \n",
    "def print_square(num):\n",
    "    # function to print square of given num\n",
    "    print(\"Square: {}\" .format(num * num))\n",
    " \n",
    " \n",
    "if __name__ ==\"__main__\":\n",
    "    # creating thread\n",
    "    t1 = threading.Thread(target=print_square, args=(20,))\n",
    "    t2 = threading.Thread(target=print_cube, args=(10,))\n",
    " \n",
    "    # starting thread 1\n",
    "    t1.start()\n",
    "    # starting thread 2\n",
    "    t2.start()\n",
    " \n",
    "    # wait until thread 1 is completely executed\n",
    "    t1.join()\n",
    "    # wait until thread 2 is completely executed\n",
    "    t2.join()\n",
    " \n",
    "    # both threads completely executed\n",
    "    print(\"Done!\")"
   ]
  },
  {
   "cell_type": "code",
   "execution_count": 72,
   "id": "3e1de74d",
   "metadata": {},
   "outputs": [
    {
     "name": "stdout",
     "output_type": "stream",
     "text": [
      "{'apple', 'cherry', 'banana'}\n"
     ]
    }
   ],
   "source": [
    "#set\n",
    "#Set items are unordered, unchangeable, and do not allow duplicate values.\n",
    "#Set items can appear in a different order every time you use them, and cannot be referred to by index or key.\n",
    "#Set items are unchangeable, meaning that we cannot change the items after the set has been created.\n",
    "#Duplicates Not Allowed\n",
    "\n",
    "thisset = {\"apple\", \"banana\", \"cherry\", \"apple\"}\n",
    "print(thisset)\n"
   ]
  },
  {
   "cell_type": "code",
   "execution_count": null,
   "id": "c3642984",
   "metadata": {},
   "outputs": [],
   "source": [
    "#82. What is the difference between / and // operator in Python?"
   ]
  },
  {
   "cell_type": "markdown",
   "id": "e8f763a5",
   "metadata": {},
   "source": [
    "Division /: is a division operator and returns the Quotient value.\n",
    "Floor division // : is known as floor division operator and used to return only the value of quotient before decimal \n",
    "%: decimal Modulus"
   ]
  },
  {
   "cell_type": "code",
   "execution_count": 95,
   "id": "cbebdc78",
   "metadata": {},
   "outputs": [
    {
     "name": "stdout",
     "output_type": "stream",
     "text": [
      "3 3.3333333333333335\n",
      "1\n"
     ]
    }
   ],
   "source": [
    "print(10//3,10/3)\n",
    "print(10%3)"
   ]
  },
  {
   "cell_type": "code",
   "execution_count": 89,
   "id": "8e1d4d22",
   "metadata": {},
   "outputs": [
    {
     "ename": "SyntaxError",
     "evalue": "unexpected character after line continuation character (2181302064.py, line 1)",
     "output_type": "error",
     "traceback": [
      "\u001b[0;36m  Input \u001b[0;32mIn [89]\u001b[0;36m\u001b[0m\n\u001b[0;31m    print('hello world'\\n 'hello world'\\n 'hello world'\\n)\u001b[0m\n\u001b[0m                                                         ^\u001b[0m\n\u001b[0;31mSyntaxError\u001b[0m\u001b[0;31m:\u001b[0m unexpected character after line continuation character\n"
     ]
    }
   ],
   "source": [
    "print('hello world'\\n 'hello world'\\n 'hello world'\\n)"
   ]
  },
  {
   "cell_type": "code",
   "execution_count": null,
   "id": "1e2cdb05",
   "metadata": {},
   "outputs": [],
   "source": [
    "#The .rstrip() and .lstrip() methods to remove leading and trailing whitespace"
   ]
  },
  {
   "cell_type": "code",
   "execution_count": 91,
   "id": "c1b74a9c",
   "metadata": {},
   "outputs": [
    {
     "name": "stdout",
     "output_type": "stream",
     "text": [
      "Welcome to datagy!\\nLearn Python and Data Science!\n"
     ]
    }
   ],
   "source": [
    "string = \"Welcome to datagy!\\\\nLearn Python and Data Science!\"\n",
    "print(string)"
   ]
  },
  {
   "cell_type": "code",
   "execution_count": 93,
   "id": "b0db2d3a",
   "metadata": {},
   "outputs": [
    {
     "name": "stdout",
     "output_type": "stream",
     "text": [
      "Hello\n",
      "!\n",
      "World\n"
     ]
    }
   ],
   "source": [
    "print (\"Hello\\n!\\nWorld\")  "
   ]
  },
  {
   "cell_type": "code",
   "execution_count": null,
   "id": "35477eb7",
   "metadata": {},
   "outputs": [],
   "source": []
  },
  {
   "cell_type": "code",
   "execution_count": null,
   "id": "ab40c2aa",
   "metadata": {},
   "outputs": [],
   "source": [
    "#85. How to combine dataframes in pandas?\n",
    "data_frame1.append(data_frame2)\n",
    "pd.concat([data_frame1, data_frame2])\n",
    "data_frame1.join(data_frame2)"
   ]
  },
  {
   "cell_type": "markdown",
   "id": "39c88e7f",
   "metadata": {},
   "source": [
    "concat(): This function is used for vertical stacking and best suites when the dataframes to be combined possess the same column and similar fields."
   ]
  },
  {
   "cell_type": "markdown",
   "id": "5ad71221",
   "metadata": {},
   "source": [
    "join(): This function is used to extract data from different dataframes which have one or more columns common."
   ]
  },
  {
   "cell_type": "code",
   "execution_count": null,
   "id": "57d38466",
   "metadata": {},
   "outputs": [],
   "source": [
    "#86 How do you identify missing values and deal with missing values in Dataframe?\n",
    "isnull() and isna() functions are used to identify the missing values in your data loaded into dataframe.\n",
    "missing_count=data_frame1.isnull().sum()"
   ]
  },
  {
   "cell_type": "code",
   "execution_count": null,
   "id": "eb0c6843",
   "metadata": {},
   "outputs": [],
   "source": [
    "#Replace the  missing values with 0\n",
    "df[‘col_name’].fillna(0)\n",
    "#Replace the missing values with the mean value of that column\n",
    "df[‘col_name’] = df[‘col_name’].fillna((df[‘col_name’].mean()))"
   ]
  },
  {
   "cell_type": "markdown",
   "id": "8f97dd55",
   "metadata": {},
   "source": [
    "87. What is regression?\n",
    "Regression is termed as supervised machine learning algorithm technique which is used to find the correlation between variables and help to predict the dependent variable(y) based upon the independent variable (x). It is mainly used for prediction, time series modeling, forecasting, and determining the causal-effect relationship between variables.\n",
    "\n",
    "Scikit library is used in python to implement the regression and all machine learning algorithms.\n",
    "\n",
    "There are two different types of regression algorithms in machine learning :\n",
    "\n",
    "Linear Regression: Used when the variables are continuous and numeric in nature.\n",
    "\n",
    "Logistic Regression: Used when the variables are continuous and categorical in nature.\n",
    "\n",
    "88. What is classification?\n",
    "Classification refers to a predictive modeling process where a class label is predicted for a given example of input data. It helps categorize the provided input into a label that other observations with similar features have. For example, it can be used for classifying a mail whether it is spam or not, or for checking whether users will churn or not based on their behavior.\n",
    "\n",
    "These are some of the classification algorithms used in Machine Learning:\n",
    "\n",
    "Decision tree\n",
    "Random forest classifier\n",
    "Support vector machine\n",
    "\n",
    "90. What is SVM?\n",
    "Support vector machine (SVM) is a supervised machine learning model that considers the classification algorithms for two-group classification problems. Support vector machine is a representation of the training data as points in space are separated into categories with the help of a clear gap that should be as wide as possible."
   ]
  },
  {
   "cell_type": "markdown",
   "id": "635b6d4d",
   "metadata": {},
   "source": [
    "89. How do you split the data in train and test dataset in python?\n",
    "This can be achieved by using the scikit machine learning  library and importing train_test_split function in python as shown below:"
   ]
  },
  {
   "cell_type": "markdown",
   "id": "80a91728",
   "metadata": {},
   "source": [
    "Import sklearn.model_selection.train_test_split\n",
    "\n",
    "test size =30% and train= 70 %\n",
    "\n",
    "X_train, X_test, y_train, y_test = train_test_split(X, y, test_size=0.33, random_state=0).\n"
   ]
  },
  {
   "cell_type": "markdown",
   "id": "c66edc42",
   "metadata": {},
   "source": [
    "91. Write a code to get the indices of N maximum values from a NumPy array?\n"
   ]
  },
  {
   "cell_type": "code",
   "execution_count": 158,
   "id": "1701dc06",
   "metadata": {},
   "outputs": [
    {
     "name": "stdout",
     "output_type": "stream",
     "text": [
      "[5 4 3]\n"
     ]
    }
   ],
   "source": [
    "import numpy as np\n",
    "\n",
    "ar = np.array([1, 3, 2, 4, 5, 6])\n",
    "\n",
    "print(ar.argsort()[-3:][::-1])\n",
    "#[::-1]倒叙"
   ]
  },
  {
   "cell_type": "markdown",
   "id": "14f06664",
   "metadata": {},
   "source": [
    "92. What is the easiest way to calculate percentiles when using Python?"
   ]
  },
  {
   "cell_type": "code",
   "execution_count": 159,
   "id": "5dca16cd",
   "metadata": {},
   "outputs": [
    {
     "name": "stdout",
     "output_type": "stream",
     "text": [
      "4.0\n"
     ]
    }
   ],
   "source": [
    "import numpy as np\n",
    "a = np.array([1,2,3,4,5,6,7])\n",
    "p = np.percentile(a, 50)  #Returns the 50th percentile which is also the median\n",
    "print(p)"
   ]
  },
  {
   "cell_type": "markdown",
   "id": "f29fdb08",
   "metadata": {},
   "source": [
    "93. Write a Python program to check whether a given string is a palindrome or not, without using an iterative method?"
   ]
  },
  {
   "cell_type": "code",
   "execution_count": 167,
   "id": "a7d409b6",
   "metadata": {},
   "outputs": [],
   "source": [
    "def fun(string):\n",
    "    s1 = string\n",
    "    s = string[::-1]\n",
    "    if(s1 == s):\n",
    "        return True\n",
    "    else:\n",
    "        return False\n"
   ]
  },
  {
   "cell_type": "code",
   "execution_count": 168,
   "id": "6b8887f7",
   "metadata": {},
   "outputs": [
    {
     "name": "stdout",
     "output_type": "stream",
     "text": [
      "True\n"
     ]
    }
   ],
   "source": [
    "print(fun('madam'))"
   ]
  },
  {
   "cell_type": "markdown",
   "id": "5e4196d1",
   "metadata": {},
   "source": [
    "94. Write a Python program to calculate the sum of a list of numbers?"
   ]
  },
  {
   "cell_type": "code",
   "execution_count": 172,
   "id": "b288e544",
   "metadata": {},
   "outputs": [],
   "source": [
    "def sum(num):\n",
    "    if len(num) == 1:\n",
    "        return num[0] \n",
    "    else:\n",
    "        return num[0] + sum(num[1:])\n"
   ]
  },
  {
   "cell_type": "code",
   "execution_count": 176,
   "id": "2a25b6b6",
   "metadata": {},
   "outputs": [
    {
     "name": "stdout",
     "output_type": "stream",
     "text": [
      "24\n"
     ]
    }
   ],
   "source": [
    "#with only one element in the list, the sum result will be equal to the elementelse:\n",
    "print(sum([2, 4, 5, 6, 7]))"
   ]
  },
  {
   "cell_type": "markdown",
   "id": "5993d596",
   "metadata": {},
   "source": [
    "95. Write a program in Python to execute the Bubble sort algorithm?"
   ]
  },
  {
   "cell_type": "code",
   "execution_count": 177,
   "id": "ac233299",
   "metadata": {},
   "outputs": [
    {
     "name": "stdout",
     "output_type": "stream",
     "text": [
      "Sorted array is:\n",
      " 11  12  22  25  34  64  90 "
     ]
    }
   ],
   "source": [
    "def bubbleSort(arr):\n",
    "    n = len(arr)\n",
    "    # optimize code, so if the array is already sorted, it doesn't need\n",
    "    # to go through the entire process\n",
    "    swapped = False\n",
    "    # Traverse through all array elements\n",
    "    for i in range(n-1):\n",
    "        # range(n) also work but outer loop will\n",
    "        # repeat one time more than needed.\n",
    "        # Last i elements are already in place\n",
    "        for j in range(0, n-i-1):\n",
    " \n",
    "            # traverse the array from 0 to n-i-1\n",
    "            # Swap if the element found is greater\n",
    "            # than the next element\n",
    "            if arr[j] > arr[j + 1]:\n",
    "                swapped = True\n",
    "                arr[j], arr[j + 1] = arr[j + 1], arr[j]\n",
    "         \n",
    "        if not swapped:\n",
    "            # if we haven't needed to make a single swap, we\n",
    "            # can just exit the main loop.\n",
    "            return\n",
    " \n",
    " \n",
    "# Driver code to test above\n",
    "arr = [64, 34, 25, 12, 22, 11, 90]\n",
    " \n",
    "bubbleSort(arr)\n",
    " \n",
    "print(\"Sorted array is:\")\n",
    "for i in range(len(arr)):\n",
    "    print(\"% d\" % arr[i], end=\" \")"
   ]
  },
  {
   "cell_type": "markdown",
   "id": "ae95860f",
   "metadata": {},
   "source": [
    "96. Write a program in Python to produce Star triangle?"
   ]
  },
  {
   "cell_type": "code",
   "execution_count": 178,
   "id": "13bfdd5d",
   "metadata": {},
   "outputs": [
    {
     "name": "stdout",
     "output_type": "stream",
     "text": [
      "        *\n",
      "       ***\n",
      "      *****\n",
      "     *******\n",
      "    *********\n",
      "   ***********\n",
      "  *************\n",
      " ***************\n",
      "*****************\n"
     ]
    }
   ],
   "source": [
    "def Star_triangle(n):\n",
    "    for x in range(n):\n",
    "        print(' '*(n-x-1)+'*'*(2*x+1))\n",
    "Star_triangle(9)"
   ]
  },
  {
   "cell_type": "code",
   "execution_count": 179,
   "id": "36729242",
   "metadata": {},
   "outputs": [
    {
     "name": "stdout",
     "output_type": "stream",
     "text": [
      "* \r\n",
      "* * \r\n",
      "* * * \r\n",
      "* * * * \r\n",
      "* * * * * \r\n"
     ]
    }
   ],
   "source": [
    "# Python 3.x code to demonstrate star pattern\n",
    " \n",
    "# Function to demonstrate printing pattern\n",
    "def pypart(n):\n",
    "     \n",
    "    # outer loop to handle number of rows\n",
    "    # n in this case\n",
    "    for i in range(0, n):\n",
    "     \n",
    "        # inner loop to handle number of columns\n",
    "        # values changing acc. to outer loop\n",
    "        for j in range(0, i+1):\n",
    "         \n",
    "            # printing stars\n",
    "            print(\"* \",end=\"\")\n",
    "      \n",
    "        # ending line after each row\n",
    "        print(\"\\r\")\n",
    " \n",
    "# Driver Code\n",
    "n = 5\n",
    "pypart(n)"
   ]
  },
  {
   "cell_type": "code",
   "execution_count": 180,
   "id": "dc711f46",
   "metadata": {},
   "outputs": [
    {
     "name": "stdout",
     "output_type": "stream",
     "text": [
      "     \n",
      "    *\n",
      "   **\n",
      "  ***\n",
      " ****\n",
      "*****\n"
     ]
    }
   ],
   "source": [
    "# python3 code to print pyramid pattern using while loop\n",
    "n=5;i=0\n",
    "while(i<=n):\n",
    "  print(\" \" * (n - i) +\"*\" * i)\n",
    "  i+=1"
   ]
  },
  {
   "cell_type": "markdown",
   "id": "cc9d790a",
   "metadata": {},
   "source": [
    "97. Write a program to produce Fibonacci series in Python?"
   ]
  },
  {
   "cell_type": "code",
   "execution_count": null,
   "id": "ee01449a",
   "metadata": {},
   "outputs": [],
   "source": []
  },
  {
   "cell_type": "code",
   "execution_count": 190,
   "id": "ecf35f08",
   "metadata": {},
   "outputs": [
    {
     "name": "stdout",
     "output_type": "stream",
     "text": [
      "5\n"
     ]
    }
   ],
   "source": [
    "#1. Use recursion\n",
    "# Function for nth Fibonacci number\n",
    "def Fibonacci(n):\n",
    "   \n",
    "    # Check if input is 0 then it will\n",
    "    # print incorrect input\n",
    "    if n < 0:\n",
    "        print(\"Incorrect input\")\n",
    " \n",
    "    # Check if n is 0\n",
    "    # then it will return 0\n",
    "    elif n == 0:\n",
    "        return 0\n",
    " \n",
    "    # Check if n is 1,2\n",
    "    # it will return 1\n",
    "    elif n == 1 or n == 2:\n",
    "        return 1\n",
    " \n",
    "    else:\n",
    "        return Fibonacci(n-1) + Fibonacci(n-2)\n",
    " \n",
    "# Driver Program\n",
    "print(Fibonacci(5))"
   ]
  },
  {
   "cell_type": "code",
   "execution_count": 191,
   "id": "a68171de",
   "metadata": {},
   "outputs": [
    {
     "name": "stdout",
     "output_type": "stream",
     "text": [
      "34\n"
     ]
    }
   ],
   "source": [
    "#2 Dynamic Programming\n",
    "FibArray = [0, 1]\n",
    " \n",
    "def fibonacci(n):\n",
    "   \n",
    "    # Check is n is less\n",
    "    # than 0\n",
    "    if n < 0:\n",
    "        print(\"Incorrect input\")\n",
    "         \n",
    "    # Check is n is less\n",
    "    # than len(FibArray)\n",
    "    elif n < len(FibArray):\n",
    "        return FibArray[n]\n",
    "    else:       \n",
    "        FibArray.append(fibonacci(n - 1) + fibonacci(n - 2))\n",
    "        return FibArray[n]\n",
    " \n",
    "# Driver Program\n",
    "print(fibonacci(9))"
   ]
  },
  {
   "cell_type": "code",
   "execution_count": 192,
   "id": "3662d000",
   "metadata": {},
   "outputs": [
    {
     "name": "stdout",
     "output_type": "stream",
     "text": [
      "34\n"
     ]
    }
   ],
   "source": [
    "#3 Space Optimized\n",
    "\n",
    "# Function for nth fibonacci\n",
    "# number - Space Optimisation\n",
    "# Taking 1st two fibonacci numbers as 0 and 1\n",
    " \n",
    "def fibonacci(n):\n",
    "    a = 0\n",
    "    b = 1\n",
    "     \n",
    "    # Check is n is less\n",
    "    # than 0\n",
    "    if n < 0:\n",
    "        print(\"Incorrect input\")\n",
    "         \n",
    "    # Check is n is equal\n",
    "    # to 0\n",
    "    elif n == 0:\n",
    "        return 0\n",
    "       \n",
    "    # Check if n is equal to 1\n",
    "    elif n == 1:\n",
    "        return b\n",
    "    else:\n",
    "        for i in range(1, n):\n",
    "            c = a + b\n",
    "            a = b\n",
    "            b = c\n",
    "        return b\n",
    " \n",
    "# Driver Program\n",
    "print(fibonacci(9))"
   ]
  },
  {
   "cell_type": "markdown",
   "id": "b8bc9f0a",
   "metadata": {},
   "source": [
    "98. Write a program in Python to check if a number is prime?"
   ]
  },
  {
   "cell_type": "code",
   "execution_count": 187,
   "id": "a9674c5b",
   "metadata": {},
   "outputs": [
    {
     "name": "stdout",
     "output_type": "stream",
     "text": [
      "true\n",
      "false\n"
     ]
    }
   ],
   "source": [
    "def isPrime(n):\n",
    "  \n",
    "    # Corner case\n",
    "    if n <= 1:\n",
    "        return False\n",
    "  \n",
    "    # Check from 2 to n-1\n",
    "    for i in range(2, n):\n",
    "        if n % i == 0:\n",
    "            return False;\n",
    "  \n",
    "    return True\n",
    "  \n",
    "# Driver Program to test above function\n",
    "print(\"true\") if isPrime(11) else print(\"false\")\n",
    "print(\"true\") if isPrime(14) else print(\"false\")\n",
    "  "
   ]
  },
  {
   "cell_type": "code",
   "execution_count": null,
   "id": "83bb1bae",
   "metadata": {},
   "outputs": [],
   "source": []
  },
  {
   "cell_type": "markdown",
   "id": "32bba2ca",
   "metadata": {},
   "source": [
    "99. Write a sorting algorithm for a numerical dataset in Python?"
   ]
  },
  {
   "cell_type": "code",
   "execution_count": 182,
   "id": "696634bf",
   "metadata": {},
   "outputs": [
    {
     "name": "stdout",
     "output_type": "stream",
     "text": [
      "[1, 2, 2, 3, 4, 5]\n"
     ]
    }
   ],
   "source": [
    "my_list = [\"8\", \"4\", \"3\", \"6\", \"2\"]\n",
    "\n",
    "my_list = [int(i) for i in list]\n",
    "\n",
    "my_list.sort()\n",
    "\n",
    "print (my_list)"
   ]
  },
  {
   "cell_type": "code",
   "execution_count": null,
   "id": "1d6edd48",
   "metadata": {},
   "outputs": [],
   "source": []
  },
  {
   "cell_type": "markdown",
   "id": "9ecd6eaa",
   "metadata": {},
   "source": [
    "100. Write a Program to print ASCII Value of a character in python?"
   ]
  },
  {
   "cell_type": "code",
   "execution_count": 181,
   "id": "6fa8b768",
   "metadata": {},
   "outputs": [
    {
     "name": "stdout",
     "output_type": "stream",
     "text": [
      " ASCII value of 'a' is 97\n"
     ]
    }
   ],
   "source": [
    "x= 'a'\n",
    "\n",
    "# print the ASCII value of assigned character stored in x\n",
    "\n",
    "print(\" ASCII value of '\" + x + \"' is\", ord(x))"
   ]
  },
  {
   "cell_type": "code",
   "execution_count": null,
   "id": "80dad4eb",
   "metadata": {},
   "outputs": [],
   "source": []
  },
  {
   "cell_type": "code",
   "execution_count": null,
   "id": "a32cb44c",
   "metadata": {},
   "outputs": [],
   "source": []
  },
  {
   "cell_type": "code",
   "execution_count": null,
   "id": "dda7cb20",
   "metadata": {},
   "outputs": [],
   "source": []
  },
  {
   "cell_type": "markdown",
   "id": "5f0d12ee",
   "metadata": {},
   "source": [
    "89"
   ]
  },
  {
   "cell_type": "code",
   "execution_count": 151,
   "id": "8d415a04",
   "metadata": {},
   "outputs": [],
   "source": [
    "\n",
    "#By default, the Test set is split into 30 % of actual data and the training set is split into 70% of the actual data.\n",
    "# import modules\n",
    "import pandas as pd\n",
    "from sklearn.linear_model import LinearRegression\n",
    "from sklearn.model_selection import train_test_split\n",
    " \n",
    "# read the dataset\n",
    "df = pd.read_csv('/Users/rz/Desktop/python面试/Real-estate.csv')\n",
    " \n",
    "# get the locations\n",
    "X = df.iloc[:, :-1] #选取除了最后-x的之前列\n",
    "y = df.iloc[:, -1]\n",
    " \n",
    "# split the dataset\n",
    "X_train, X_test, y_train, y_test = train_test_split(\n",
    "    X, y, test_size=0.05, random_state=0)"
   ]
  },
  {
   "cell_type": "code",
   "execution_count": 152,
   "id": "4bbedc5e",
   "metadata": {},
   "outputs": [
    {
     "data": {
      "text/html": [
       "<div>\n",
       "<style scoped>\n",
       "    .dataframe tbody tr th:only-of-type {\n",
       "        vertical-align: middle;\n",
       "    }\n",
       "\n",
       "    .dataframe tbody tr th {\n",
       "        vertical-align: top;\n",
       "    }\n",
       "\n",
       "    .dataframe thead th {\n",
       "        text-align: right;\n",
       "    }\n",
       "</style>\n",
       "<table border=\"1\" class=\"dataframe\">\n",
       "  <thead>\n",
       "    <tr style=\"text-align: right;\">\n",
       "      <th></th>\n",
       "      <th>No</th>\n",
       "      <th>X1 transaction date</th>\n",
       "      <th>X2 house age</th>\n",
       "      <th>X3 distance to the nearest MRT station</th>\n",
       "      <th>X4 number of convenience stores</th>\n",
       "      <th>X5 latitude</th>\n",
       "      <th>X6 longitude</th>\n",
       "      <th>Y house price of unit area</th>\n",
       "    </tr>\n",
       "  </thead>\n",
       "  <tbody>\n",
       "    <tr>\n",
       "      <th>0</th>\n",
       "      <td>1</td>\n",
       "      <td>2012.917</td>\n",
       "      <td>32.0</td>\n",
       "      <td>84.87882</td>\n",
       "      <td>10</td>\n",
       "      <td>24.98298</td>\n",
       "      <td>121.54024</td>\n",
       "      <td>37.9</td>\n",
       "    </tr>\n",
       "    <tr>\n",
       "      <th>1</th>\n",
       "      <td>2</td>\n",
       "      <td>2012.917</td>\n",
       "      <td>19.5</td>\n",
       "      <td>306.59470</td>\n",
       "      <td>9</td>\n",
       "      <td>24.98034</td>\n",
       "      <td>121.53951</td>\n",
       "      <td>42.2</td>\n",
       "    </tr>\n",
       "    <tr>\n",
       "      <th>2</th>\n",
       "      <td>3</td>\n",
       "      <td>2013.583</td>\n",
       "      <td>13.3</td>\n",
       "      <td>561.98450</td>\n",
       "      <td>5</td>\n",
       "      <td>24.98746</td>\n",
       "      <td>121.54391</td>\n",
       "      <td>47.3</td>\n",
       "    </tr>\n",
       "    <tr>\n",
       "      <th>3</th>\n",
       "      <td>4</td>\n",
       "      <td>2013.500</td>\n",
       "      <td>13.3</td>\n",
       "      <td>561.98450</td>\n",
       "      <td>5</td>\n",
       "      <td>24.98746</td>\n",
       "      <td>121.54391</td>\n",
       "      <td>54.8</td>\n",
       "    </tr>\n",
       "    <tr>\n",
       "      <th>4</th>\n",
       "      <td>5</td>\n",
       "      <td>2012.833</td>\n",
       "      <td>5.0</td>\n",
       "      <td>390.56840</td>\n",
       "      <td>5</td>\n",
       "      <td>24.97937</td>\n",
       "      <td>121.54245</td>\n",
       "      <td>43.1</td>\n",
       "    </tr>\n",
       "    <tr>\n",
       "      <th>...</th>\n",
       "      <td>...</td>\n",
       "      <td>...</td>\n",
       "      <td>...</td>\n",
       "      <td>...</td>\n",
       "      <td>...</td>\n",
       "      <td>...</td>\n",
       "      <td>...</td>\n",
       "      <td>...</td>\n",
       "    </tr>\n",
       "    <tr>\n",
       "      <th>409</th>\n",
       "      <td>410</td>\n",
       "      <td>2013.000</td>\n",
       "      <td>13.7</td>\n",
       "      <td>4082.01500</td>\n",
       "      <td>0</td>\n",
       "      <td>24.94155</td>\n",
       "      <td>121.50381</td>\n",
       "      <td>15.4</td>\n",
       "    </tr>\n",
       "    <tr>\n",
       "      <th>410</th>\n",
       "      <td>411</td>\n",
       "      <td>2012.667</td>\n",
       "      <td>5.6</td>\n",
       "      <td>90.45606</td>\n",
       "      <td>9</td>\n",
       "      <td>24.97433</td>\n",
       "      <td>121.54310</td>\n",
       "      <td>50.0</td>\n",
       "    </tr>\n",
       "    <tr>\n",
       "      <th>411</th>\n",
       "      <td>412</td>\n",
       "      <td>2013.250</td>\n",
       "      <td>18.8</td>\n",
       "      <td>390.96960</td>\n",
       "      <td>7</td>\n",
       "      <td>24.97923</td>\n",
       "      <td>121.53986</td>\n",
       "      <td>40.6</td>\n",
       "    </tr>\n",
       "    <tr>\n",
       "      <th>412</th>\n",
       "      <td>413</td>\n",
       "      <td>2013.000</td>\n",
       "      <td>8.1</td>\n",
       "      <td>104.81010</td>\n",
       "      <td>5</td>\n",
       "      <td>24.96674</td>\n",
       "      <td>121.54067</td>\n",
       "      <td>52.5</td>\n",
       "    </tr>\n",
       "    <tr>\n",
       "      <th>413</th>\n",
       "      <td>414</td>\n",
       "      <td>2013.500</td>\n",
       "      <td>6.5</td>\n",
       "      <td>90.45606</td>\n",
       "      <td>9</td>\n",
       "      <td>24.97433</td>\n",
       "      <td>121.54310</td>\n",
       "      <td>63.9</td>\n",
       "    </tr>\n",
       "  </tbody>\n",
       "</table>\n",
       "<p>414 rows × 8 columns</p>\n",
       "</div>"
      ],
      "text/plain": [
       "      No  X1 transaction date  X2 house age  \\\n",
       "0      1             2012.917          32.0   \n",
       "1      2             2012.917          19.5   \n",
       "2      3             2013.583          13.3   \n",
       "3      4             2013.500          13.3   \n",
       "4      5             2012.833           5.0   \n",
       "..   ...                  ...           ...   \n",
       "409  410             2013.000          13.7   \n",
       "410  411             2012.667           5.6   \n",
       "411  412             2013.250          18.8   \n",
       "412  413             2013.000           8.1   \n",
       "413  414             2013.500           6.5   \n",
       "\n",
       "     X3 distance to the nearest MRT station  X4 number of convenience stores  \\\n",
       "0                                  84.87882                               10   \n",
       "1                                 306.59470                                9   \n",
       "2                                 561.98450                                5   \n",
       "3                                 561.98450                                5   \n",
       "4                                 390.56840                                5   \n",
       "..                                      ...                              ...   \n",
       "409                              4082.01500                                0   \n",
       "410                                90.45606                                9   \n",
       "411                               390.96960                                7   \n",
       "412                               104.81010                                5   \n",
       "413                                90.45606                                9   \n",
       "\n",
       "     X5 latitude  X6 longitude  Y house price of unit area  \n",
       "0       24.98298     121.54024                        37.9  \n",
       "1       24.98034     121.53951                        42.2  \n",
       "2       24.98746     121.54391                        47.3  \n",
       "3       24.98746     121.54391                        54.8  \n",
       "4       24.97937     121.54245                        43.1  \n",
       "..           ...           ...                         ...  \n",
       "409     24.94155     121.50381                        15.4  \n",
       "410     24.97433     121.54310                        50.0  \n",
       "411     24.97923     121.53986                        40.6  \n",
       "412     24.96674     121.54067                        52.5  \n",
       "413     24.97433     121.54310                        63.9  \n",
       "\n",
       "[414 rows x 8 columns]"
      ]
     },
     "execution_count": 152,
     "metadata": {},
     "output_type": "execute_result"
    }
   ],
   "source": [
    "df"
   ]
  },
  {
   "cell_type": "code",
   "execution_count": 153,
   "id": "0d9bf4ef",
   "metadata": {},
   "outputs": [
    {
     "data": {
      "text/html": [
       "<div>\n",
       "<style scoped>\n",
       "    .dataframe tbody tr th:only-of-type {\n",
       "        vertical-align: middle;\n",
       "    }\n",
       "\n",
       "    .dataframe tbody tr th {\n",
       "        vertical-align: top;\n",
       "    }\n",
       "\n",
       "    .dataframe thead th {\n",
       "        text-align: right;\n",
       "    }\n",
       "</style>\n",
       "<table border=\"1\" class=\"dataframe\">\n",
       "  <thead>\n",
       "    <tr style=\"text-align: right;\">\n",
       "      <th></th>\n",
       "      <th>No</th>\n",
       "      <th>X1 transaction date</th>\n",
       "      <th>X2 house age</th>\n",
       "      <th>X3 distance to the nearest MRT station</th>\n",
       "      <th>X4 number of convenience stores</th>\n",
       "      <th>X5 latitude</th>\n",
       "      <th>X6 longitude</th>\n",
       "    </tr>\n",
       "  </thead>\n",
       "  <tbody>\n",
       "    <tr>\n",
       "      <th>0</th>\n",
       "      <td>1</td>\n",
       "      <td>2012.917</td>\n",
       "      <td>32.0</td>\n",
       "      <td>84.87882</td>\n",
       "      <td>10</td>\n",
       "      <td>24.98298</td>\n",
       "      <td>121.54024</td>\n",
       "    </tr>\n",
       "    <tr>\n",
       "      <th>1</th>\n",
       "      <td>2</td>\n",
       "      <td>2012.917</td>\n",
       "      <td>19.5</td>\n",
       "      <td>306.59470</td>\n",
       "      <td>9</td>\n",
       "      <td>24.98034</td>\n",
       "      <td>121.53951</td>\n",
       "    </tr>\n",
       "    <tr>\n",
       "      <th>2</th>\n",
       "      <td>3</td>\n",
       "      <td>2013.583</td>\n",
       "      <td>13.3</td>\n",
       "      <td>561.98450</td>\n",
       "      <td>5</td>\n",
       "      <td>24.98746</td>\n",
       "      <td>121.54391</td>\n",
       "    </tr>\n",
       "    <tr>\n",
       "      <th>3</th>\n",
       "      <td>4</td>\n",
       "      <td>2013.500</td>\n",
       "      <td>13.3</td>\n",
       "      <td>561.98450</td>\n",
       "      <td>5</td>\n",
       "      <td>24.98746</td>\n",
       "      <td>121.54391</td>\n",
       "    </tr>\n",
       "    <tr>\n",
       "      <th>4</th>\n",
       "      <td>5</td>\n",
       "      <td>2012.833</td>\n",
       "      <td>5.0</td>\n",
       "      <td>390.56840</td>\n",
       "      <td>5</td>\n",
       "      <td>24.97937</td>\n",
       "      <td>121.54245</td>\n",
       "    </tr>\n",
       "    <tr>\n",
       "      <th>...</th>\n",
       "      <td>...</td>\n",
       "      <td>...</td>\n",
       "      <td>...</td>\n",
       "      <td>...</td>\n",
       "      <td>...</td>\n",
       "      <td>...</td>\n",
       "      <td>...</td>\n",
       "    </tr>\n",
       "    <tr>\n",
       "      <th>409</th>\n",
       "      <td>410</td>\n",
       "      <td>2013.000</td>\n",
       "      <td>13.7</td>\n",
       "      <td>4082.01500</td>\n",
       "      <td>0</td>\n",
       "      <td>24.94155</td>\n",
       "      <td>121.50381</td>\n",
       "    </tr>\n",
       "    <tr>\n",
       "      <th>410</th>\n",
       "      <td>411</td>\n",
       "      <td>2012.667</td>\n",
       "      <td>5.6</td>\n",
       "      <td>90.45606</td>\n",
       "      <td>9</td>\n",
       "      <td>24.97433</td>\n",
       "      <td>121.54310</td>\n",
       "    </tr>\n",
       "    <tr>\n",
       "      <th>411</th>\n",
       "      <td>412</td>\n",
       "      <td>2013.250</td>\n",
       "      <td>18.8</td>\n",
       "      <td>390.96960</td>\n",
       "      <td>7</td>\n",
       "      <td>24.97923</td>\n",
       "      <td>121.53986</td>\n",
       "    </tr>\n",
       "    <tr>\n",
       "      <th>412</th>\n",
       "      <td>413</td>\n",
       "      <td>2013.000</td>\n",
       "      <td>8.1</td>\n",
       "      <td>104.81010</td>\n",
       "      <td>5</td>\n",
       "      <td>24.96674</td>\n",
       "      <td>121.54067</td>\n",
       "    </tr>\n",
       "    <tr>\n",
       "      <th>413</th>\n",
       "      <td>414</td>\n",
       "      <td>2013.500</td>\n",
       "      <td>6.5</td>\n",
       "      <td>90.45606</td>\n",
       "      <td>9</td>\n",
       "      <td>24.97433</td>\n",
       "      <td>121.54310</td>\n",
       "    </tr>\n",
       "  </tbody>\n",
       "</table>\n",
       "<p>414 rows × 7 columns</p>\n",
       "</div>"
      ],
      "text/plain": [
       "      No  X1 transaction date  X2 house age  \\\n",
       "0      1             2012.917          32.0   \n",
       "1      2             2012.917          19.5   \n",
       "2      3             2013.583          13.3   \n",
       "3      4             2013.500          13.3   \n",
       "4      5             2012.833           5.0   \n",
       "..   ...                  ...           ...   \n",
       "409  410             2013.000          13.7   \n",
       "410  411             2012.667           5.6   \n",
       "411  412             2013.250          18.8   \n",
       "412  413             2013.000           8.1   \n",
       "413  414             2013.500           6.5   \n",
       "\n",
       "     X3 distance to the nearest MRT station  X4 number of convenience stores  \\\n",
       "0                                  84.87882                               10   \n",
       "1                                 306.59470                                9   \n",
       "2                                 561.98450                                5   \n",
       "3                                 561.98450                                5   \n",
       "4                                 390.56840                                5   \n",
       "..                                      ...                              ...   \n",
       "409                              4082.01500                                0   \n",
       "410                                90.45606                                9   \n",
       "411                               390.96960                                7   \n",
       "412                               104.81010                                5   \n",
       "413                                90.45606                                9   \n",
       "\n",
       "     X5 latitude  X6 longitude  \n",
       "0       24.98298     121.54024  \n",
       "1       24.98034     121.53951  \n",
       "2       24.98746     121.54391  \n",
       "3       24.98746     121.54391  \n",
       "4       24.97937     121.54245  \n",
       "..           ...           ...  \n",
       "409     24.94155     121.50381  \n",
       "410     24.97433     121.54310  \n",
       "411     24.97923     121.53986  \n",
       "412     24.96674     121.54067  \n",
       "413     24.97433     121.54310  \n",
       "\n",
       "[414 rows x 7 columns]"
      ]
     },
     "execution_count": 153,
     "metadata": {},
     "output_type": "execute_result"
    }
   ],
   "source": [
    "X"
   ]
  },
  {
   "cell_type": "code",
   "execution_count": 154,
   "id": "5d4bba97",
   "metadata": {},
   "outputs": [
    {
     "data": {
      "text/plain": [
       "0      37.9\n",
       "1      42.2\n",
       "2      47.3\n",
       "3      54.8\n",
       "4      43.1\n",
       "       ... \n",
       "409    15.4\n",
       "410    50.0\n",
       "411    40.6\n",
       "412    52.5\n",
       "413    63.9\n",
       "Name: Y house price of unit area, Length: 414, dtype: float64"
      ]
     },
     "execution_count": 154,
     "metadata": {},
     "output_type": "execute_result"
    }
   ],
   "source": [
    "y"
   ]
  },
  {
   "cell_type": "code",
   "execution_count": 155,
   "id": "a57b668d",
   "metadata": {},
   "outputs": [
    {
     "data": {
      "text/html": [
       "<div>\n",
       "<style scoped>\n",
       "    .dataframe tbody tr th:only-of-type {\n",
       "        vertical-align: middle;\n",
       "    }\n",
       "\n",
       "    .dataframe tbody tr th {\n",
       "        vertical-align: top;\n",
       "    }\n",
       "\n",
       "    .dataframe thead th {\n",
       "        text-align: right;\n",
       "    }\n",
       "</style>\n",
       "<table border=\"1\" class=\"dataframe\">\n",
       "  <thead>\n",
       "    <tr style=\"text-align: right;\">\n",
       "      <th></th>\n",
       "      <th>No</th>\n",
       "      <th>X1 transaction date</th>\n",
       "      <th>X2 house age</th>\n",
       "      <th>X3 distance to the nearest MRT station</th>\n",
       "      <th>X4 number of convenience stores</th>\n",
       "      <th>X5 latitude</th>\n",
       "      <th>X6 longitude</th>\n",
       "    </tr>\n",
       "  </thead>\n",
       "  <tbody>\n",
       "    <tr>\n",
       "      <th>37</th>\n",
       "      <td>38</td>\n",
       "      <td>2013.167</td>\n",
       "      <td>12.0</td>\n",
       "      <td>1360.13900</td>\n",
       "      <td>1</td>\n",
       "      <td>24.95204</td>\n",
       "      <td>121.54842</td>\n",
       "    </tr>\n",
       "    <tr>\n",
       "      <th>334</th>\n",
       "      <td>335</td>\n",
       "      <td>2012.917</td>\n",
       "      <td>30.0</td>\n",
       "      <td>1013.34100</td>\n",
       "      <td>5</td>\n",
       "      <td>24.99006</td>\n",
       "      <td>121.53460</td>\n",
       "    </tr>\n",
       "    <tr>\n",
       "      <th>54</th>\n",
       "      <td>55</td>\n",
       "      <td>2013.083</td>\n",
       "      <td>16.1</td>\n",
       "      <td>289.32480</td>\n",
       "      <td>5</td>\n",
       "      <td>24.98203</td>\n",
       "      <td>121.54348</td>\n",
       "    </tr>\n",
       "    <tr>\n",
       "      <th>145</th>\n",
       "      <td>146</td>\n",
       "      <td>2012.917</td>\n",
       "      <td>2.1</td>\n",
       "      <td>451.24380</td>\n",
       "      <td>5</td>\n",
       "      <td>24.97563</td>\n",
       "      <td>121.54694</td>\n",
       "    </tr>\n",
       "    <tr>\n",
       "      <th>284</th>\n",
       "      <td>285</td>\n",
       "      <td>2012.917</td>\n",
       "      <td>15.0</td>\n",
       "      <td>383.28050</td>\n",
       "      <td>7</td>\n",
       "      <td>24.96735</td>\n",
       "      <td>121.54464</td>\n",
       "    </tr>\n",
       "    <tr>\n",
       "      <th>...</th>\n",
       "      <td>...</td>\n",
       "      <td>...</td>\n",
       "      <td>...</td>\n",
       "      <td>...</td>\n",
       "      <td>...</td>\n",
       "      <td>...</td>\n",
       "      <td>...</td>\n",
       "    </tr>\n",
       "    <tr>\n",
       "      <th>323</th>\n",
       "      <td>324</td>\n",
       "      <td>2013.417</td>\n",
       "      <td>28.6</td>\n",
       "      <td>197.13380</td>\n",
       "      <td>6</td>\n",
       "      <td>24.97631</td>\n",
       "      <td>121.54436</td>\n",
       "    </tr>\n",
       "    <tr>\n",
       "      <th>192</th>\n",
       "      <td>193</td>\n",
       "      <td>2013.167</td>\n",
       "      <td>43.8</td>\n",
       "      <td>57.58945</td>\n",
       "      <td>7</td>\n",
       "      <td>24.96750</td>\n",
       "      <td>121.54069</td>\n",
       "    </tr>\n",
       "    <tr>\n",
       "      <th>117</th>\n",
       "      <td>118</td>\n",
       "      <td>2013.000</td>\n",
       "      <td>13.6</td>\n",
       "      <td>4197.34900</td>\n",
       "      <td>0</td>\n",
       "      <td>24.93885</td>\n",
       "      <td>121.50383</td>\n",
       "    </tr>\n",
       "    <tr>\n",
       "      <th>47</th>\n",
       "      <td>48</td>\n",
       "      <td>2013.583</td>\n",
       "      <td>35.9</td>\n",
       "      <td>640.73910</td>\n",
       "      <td>3</td>\n",
       "      <td>24.97563</td>\n",
       "      <td>121.53715</td>\n",
       "    </tr>\n",
       "    <tr>\n",
       "      <th>172</th>\n",
       "      <td>173</td>\n",
       "      <td>2013.583</td>\n",
       "      <td>6.6</td>\n",
       "      <td>90.45606</td>\n",
       "      <td>9</td>\n",
       "      <td>24.97433</td>\n",
       "      <td>121.54310</td>\n",
       "    </tr>\n",
       "  </tbody>\n",
       "</table>\n",
       "<p>393 rows × 7 columns</p>\n",
       "</div>"
      ],
      "text/plain": [
       "      No  X1 transaction date  X2 house age  \\\n",
       "37    38             2013.167          12.0   \n",
       "334  335             2012.917          30.0   \n",
       "54    55             2013.083          16.1   \n",
       "145  146             2012.917           2.1   \n",
       "284  285             2012.917          15.0   \n",
       "..   ...                  ...           ...   \n",
       "323  324             2013.417          28.6   \n",
       "192  193             2013.167          43.8   \n",
       "117  118             2013.000          13.6   \n",
       "47    48             2013.583          35.9   \n",
       "172  173             2013.583           6.6   \n",
       "\n",
       "     X3 distance to the nearest MRT station  X4 number of convenience stores  \\\n",
       "37                               1360.13900                                1   \n",
       "334                              1013.34100                                5   \n",
       "54                                289.32480                                5   \n",
       "145                               451.24380                                5   \n",
       "284                               383.28050                                7   \n",
       "..                                      ...                              ...   \n",
       "323                               197.13380                                6   \n",
       "192                                57.58945                                7   \n",
       "117                              4197.34900                                0   \n",
       "47                                640.73910                                3   \n",
       "172                                90.45606                                9   \n",
       "\n",
       "     X5 latitude  X6 longitude  \n",
       "37      24.95204     121.54842  \n",
       "334     24.99006     121.53460  \n",
       "54      24.98203     121.54348  \n",
       "145     24.97563     121.54694  \n",
       "284     24.96735     121.54464  \n",
       "..           ...           ...  \n",
       "323     24.97631     121.54436  \n",
       "192     24.96750     121.54069  \n",
       "117     24.93885     121.50383  \n",
       "47      24.97563     121.53715  \n",
       "172     24.97433     121.54310  \n",
       "\n",
       "[393 rows x 7 columns]"
      ]
     },
     "execution_count": 155,
     "metadata": {},
     "output_type": "execute_result"
    }
   ],
   "source": [
    "X_train"
   ]
  },
  {
   "cell_type": "code",
   "execution_count": 156,
   "id": "c806bb22",
   "metadata": {},
   "outputs": [
    {
     "data": {
      "text/html": [
       "<div>\n",
       "<style scoped>\n",
       "    .dataframe tbody tr th:only-of-type {\n",
       "        vertical-align: middle;\n",
       "    }\n",
       "\n",
       "    .dataframe tbody tr th {\n",
       "        vertical-align: top;\n",
       "    }\n",
       "\n",
       "    .dataframe thead th {\n",
       "        text-align: right;\n",
       "    }\n",
       "</style>\n",
       "<table border=\"1\" class=\"dataframe\">\n",
       "  <thead>\n",
       "    <tr style=\"text-align: right;\">\n",
       "      <th></th>\n",
       "      <th>No</th>\n",
       "      <th>X1 transaction date</th>\n",
       "      <th>X2 house age</th>\n",
       "      <th>X3 distance to the nearest MRT station</th>\n",
       "      <th>X4 number of convenience stores</th>\n",
       "      <th>X5 latitude</th>\n",
       "      <th>X6 longitude</th>\n",
       "    </tr>\n",
       "  </thead>\n",
       "  <tbody>\n",
       "    <tr>\n",
       "      <th>356</th>\n",
       "      <td>357</td>\n",
       "      <td>2012.833</td>\n",
       "      <td>10.3</td>\n",
       "      <td>211.44730</td>\n",
       "      <td>1</td>\n",
       "      <td>24.97417</td>\n",
       "      <td>121.52999</td>\n",
       "    </tr>\n",
       "    <tr>\n",
       "      <th>170</th>\n",
       "      <td>171</td>\n",
       "      <td>2013.333</td>\n",
       "      <td>24.0</td>\n",
       "      <td>4527.68700</td>\n",
       "      <td>0</td>\n",
       "      <td>24.94741</td>\n",
       "      <td>121.49628</td>\n",
       "    </tr>\n",
       "    <tr>\n",
       "      <th>224</th>\n",
       "      <td>225</td>\n",
       "      <td>2013.333</td>\n",
       "      <td>34.5</td>\n",
       "      <td>324.94190</td>\n",
       "      <td>6</td>\n",
       "      <td>24.97814</td>\n",
       "      <td>121.54170</td>\n",
       "    </tr>\n",
       "    <tr>\n",
       "      <th>331</th>\n",
       "      <td>332</td>\n",
       "      <td>2013.333</td>\n",
       "      <td>25.6</td>\n",
       "      <td>4519.69000</td>\n",
       "      <td>0</td>\n",
       "      <td>24.94826</td>\n",
       "      <td>121.49587</td>\n",
       "    </tr>\n",
       "    <tr>\n",
       "      <th>306</th>\n",
       "      <td>307</td>\n",
       "      <td>2013.500</td>\n",
       "      <td>14.4</td>\n",
       "      <td>169.98030</td>\n",
       "      <td>1</td>\n",
       "      <td>24.97369</td>\n",
       "      <td>121.52979</td>\n",
       "    </tr>\n",
       "    <tr>\n",
       "      <th>325</th>\n",
       "      <td>326</td>\n",
       "      <td>2013.083</td>\n",
       "      <td>36.6</td>\n",
       "      <td>488.81930</td>\n",
       "      <td>8</td>\n",
       "      <td>24.97015</td>\n",
       "      <td>121.54494</td>\n",
       "    </tr>\n",
       "    <tr>\n",
       "      <th>150</th>\n",
       "      <td>151</td>\n",
       "      <td>2013.250</td>\n",
       "      <td>35.8</td>\n",
       "      <td>170.73110</td>\n",
       "      <td>7</td>\n",
       "      <td>24.96719</td>\n",
       "      <td>121.54269</td>\n",
       "    </tr>\n",
       "    <tr>\n",
       "      <th>10</th>\n",
       "      <td>11</td>\n",
       "      <td>2013.083</td>\n",
       "      <td>34.8</td>\n",
       "      <td>405.21340</td>\n",
       "      <td>1</td>\n",
       "      <td>24.97349</td>\n",
       "      <td>121.53372</td>\n",
       "    </tr>\n",
       "    <tr>\n",
       "      <th>21</th>\n",
       "      <td>22</td>\n",
       "      <td>2013.417</td>\n",
       "      <td>10.5</td>\n",
       "      <td>279.17260</td>\n",
       "      <td>7</td>\n",
       "      <td>24.97528</td>\n",
       "      <td>121.54541</td>\n",
       "    </tr>\n",
       "    <tr>\n",
       "      <th>268</th>\n",
       "      <td>269</td>\n",
       "      <td>2013.417</td>\n",
       "      <td>17.2</td>\n",
       "      <td>390.56840</td>\n",
       "      <td>5</td>\n",
       "      <td>24.97937</td>\n",
       "      <td>121.54245</td>\n",
       "    </tr>\n",
       "    <tr>\n",
       "      <th>316</th>\n",
       "      <td>317</td>\n",
       "      <td>2013.250</td>\n",
       "      <td>13.3</td>\n",
       "      <td>250.63100</td>\n",
       "      <td>7</td>\n",
       "      <td>24.96606</td>\n",
       "      <td>121.54297</td>\n",
       "    </tr>\n",
       "    <tr>\n",
       "      <th>59</th>\n",
       "      <td>60</td>\n",
       "      <td>2013.083</td>\n",
       "      <td>13.3</td>\n",
       "      <td>336.05320</td>\n",
       "      <td>5</td>\n",
       "      <td>24.95776</td>\n",
       "      <td>121.53438</td>\n",
       "    </tr>\n",
       "    <tr>\n",
       "      <th>402</th>\n",
       "      <td>403</td>\n",
       "      <td>2012.833</td>\n",
       "      <td>12.7</td>\n",
       "      <td>187.48230</td>\n",
       "      <td>1</td>\n",
       "      <td>24.97388</td>\n",
       "      <td>121.52981</td>\n",
       "    </tr>\n",
       "    <tr>\n",
       "      <th>198</th>\n",
       "      <td>199</td>\n",
       "      <td>2013.083</td>\n",
       "      <td>34.0</td>\n",
       "      <td>157.60520</td>\n",
       "      <td>7</td>\n",
       "      <td>24.96628</td>\n",
       "      <td>121.54196</td>\n",
       "    </tr>\n",
       "    <tr>\n",
       "      <th>348</th>\n",
       "      <td>349</td>\n",
       "      <td>2012.833</td>\n",
       "      <td>4.6</td>\n",
       "      <td>259.66070</td>\n",
       "      <td>6</td>\n",
       "      <td>24.97585</td>\n",
       "      <td>121.54516</td>\n",
       "    </tr>\n",
       "    <tr>\n",
       "      <th>76</th>\n",
       "      <td>77</td>\n",
       "      <td>2013.583</td>\n",
       "      <td>35.9</td>\n",
       "      <td>616.40040</td>\n",
       "      <td>3</td>\n",
       "      <td>24.97723</td>\n",
       "      <td>121.53767</td>\n",
       "    </tr>\n",
       "    <tr>\n",
       "      <th>264</th>\n",
       "      <td>265</td>\n",
       "      <td>2013.167</td>\n",
       "      <td>32.6</td>\n",
       "      <td>493.65700</td>\n",
       "      <td>7</td>\n",
       "      <td>24.96968</td>\n",
       "      <td>121.54522</td>\n",
       "    </tr>\n",
       "    <tr>\n",
       "      <th>164</th>\n",
       "      <td>165</td>\n",
       "      <td>2012.833</td>\n",
       "      <td>0.0</td>\n",
       "      <td>185.42960</td>\n",
       "      <td>0</td>\n",
       "      <td>24.97110</td>\n",
       "      <td>121.53170</td>\n",
       "    </tr>\n",
       "    <tr>\n",
       "      <th>12</th>\n",
       "      <td>13</td>\n",
       "      <td>2012.917</td>\n",
       "      <td>13.0</td>\n",
       "      <td>492.23130</td>\n",
       "      <td>5</td>\n",
       "      <td>24.96515</td>\n",
       "      <td>121.53737</td>\n",
       "    </tr>\n",
       "    <tr>\n",
       "      <th>188</th>\n",
       "      <td>189</td>\n",
       "      <td>2012.917</td>\n",
       "      <td>34.8</td>\n",
       "      <td>190.03920</td>\n",
       "      <td>8</td>\n",
       "      <td>24.97707</td>\n",
       "      <td>121.54312</td>\n",
       "    </tr>\n",
       "    <tr>\n",
       "      <th>342</th>\n",
       "      <td>343</td>\n",
       "      <td>2012.667</td>\n",
       "      <td>5.7</td>\n",
       "      <td>90.45606</td>\n",
       "      <td>9</td>\n",
       "      <td>24.97433</td>\n",
       "      <td>121.54310</td>\n",
       "    </tr>\n",
       "  </tbody>\n",
       "</table>\n",
       "</div>"
      ],
      "text/plain": [
       "      No  X1 transaction date  X2 house age  \\\n",
       "356  357             2012.833          10.3   \n",
       "170  171             2013.333          24.0   \n",
       "224  225             2013.333          34.5   \n",
       "331  332             2013.333          25.6   \n",
       "306  307             2013.500          14.4   \n",
       "325  326             2013.083          36.6   \n",
       "150  151             2013.250          35.8   \n",
       "10    11             2013.083          34.8   \n",
       "21    22             2013.417          10.5   \n",
       "268  269             2013.417          17.2   \n",
       "316  317             2013.250          13.3   \n",
       "59    60             2013.083          13.3   \n",
       "402  403             2012.833          12.7   \n",
       "198  199             2013.083          34.0   \n",
       "348  349             2012.833           4.6   \n",
       "76    77             2013.583          35.9   \n",
       "264  265             2013.167          32.6   \n",
       "164  165             2012.833           0.0   \n",
       "12    13             2012.917          13.0   \n",
       "188  189             2012.917          34.8   \n",
       "342  343             2012.667           5.7   \n",
       "\n",
       "     X3 distance to the nearest MRT station  X4 number of convenience stores  \\\n",
       "356                               211.44730                                1   \n",
       "170                              4527.68700                                0   \n",
       "224                               324.94190                                6   \n",
       "331                              4519.69000                                0   \n",
       "306                               169.98030                                1   \n",
       "325                               488.81930                                8   \n",
       "150                               170.73110                                7   \n",
       "10                                405.21340                                1   \n",
       "21                                279.17260                                7   \n",
       "268                               390.56840                                5   \n",
       "316                               250.63100                                7   \n",
       "59                                336.05320                                5   \n",
       "402                               187.48230                                1   \n",
       "198                               157.60520                                7   \n",
       "348                               259.66070                                6   \n",
       "76                                616.40040                                3   \n",
       "264                               493.65700                                7   \n",
       "164                               185.42960                                0   \n",
       "12                                492.23130                                5   \n",
       "188                               190.03920                                8   \n",
       "342                                90.45606                                9   \n",
       "\n",
       "     X5 latitude  X6 longitude  \n",
       "356     24.97417     121.52999  \n",
       "170     24.94741     121.49628  \n",
       "224     24.97814     121.54170  \n",
       "331     24.94826     121.49587  \n",
       "306     24.97369     121.52979  \n",
       "325     24.97015     121.54494  \n",
       "150     24.96719     121.54269  \n",
       "10      24.97349     121.53372  \n",
       "21      24.97528     121.54541  \n",
       "268     24.97937     121.54245  \n",
       "316     24.96606     121.54297  \n",
       "59      24.95776     121.53438  \n",
       "402     24.97388     121.52981  \n",
       "198     24.96628     121.54196  \n",
       "348     24.97585     121.54516  \n",
       "76      24.97723     121.53767  \n",
       "264     24.96968     121.54522  \n",
       "164     24.97110     121.53170  \n",
       "12      24.96515     121.53737  \n",
       "188     24.97707     121.54312  \n",
       "342     24.97433     121.54310  "
      ]
     },
     "execution_count": 156,
     "metadata": {},
     "output_type": "execute_result"
    }
   ],
   "source": [
    "X_test"
   ]
  },
  {
   "cell_type": "code",
   "execution_count": 157,
   "id": "3f54ebc1",
   "metadata": {},
   "outputs": [
    {
     "data": {
      "text/plain": [
       "37     25.3\n",
       "334    22.8\n",
       "54     51.7\n",
       "145    45.5\n",
       "284    34.4\n",
       "       ... \n",
       "323    42.5\n",
       "192    42.7\n",
       "117    13.0\n",
       "47     61.5\n",
       "172    58.1\n",
       "Name: Y house price of unit area, Length: 393, dtype: float64"
      ]
     },
     "execution_count": 157,
     "metadata": {},
     "output_type": "execute_result"
    }
   ],
   "source": [
    "y_train"
   ]
  },
  {
   "cell_type": "code",
   "execution_count": 141,
   "id": "8cdec507",
   "metadata": {},
   "outputs": [
    {
     "data": {
      "text/plain": [
       "356    45.3\n",
       "170    14.4\n",
       "224    46.0\n",
       "331    15.6\n",
       "306    50.2\n",
       "325    38.1\n",
       "150    48.5\n",
       "10     41.4\n",
       "21     51.6\n",
       "268    40.1\n",
       "316    42.0\n",
       "59     42.4\n",
       "402    28.5\n",
       "198    39.1\n",
       "348    53.7\n",
       "76     36.8\n",
       "264    40.6\n",
       "164    55.2\n",
       "12     39.3\n",
       "188    44.3\n",
       "342    53.5\n",
       "Name: Y house price of unit area, dtype: float64"
      ]
     },
     "execution_count": 141,
     "metadata": {},
     "output_type": "execute_result"
    }
   ],
   "source": [
    "y_test"
   ]
  },
  {
   "cell_type": "code",
   "execution_count": null,
   "id": "19438b2f",
   "metadata": {},
   "outputs": [],
   "source": []
  },
  {
   "cell_type": "code",
   "execution_count": null,
   "id": "9c75d86d",
   "metadata": {},
   "outputs": [],
   "source": []
  },
  {
   "cell_type": "code",
   "execution_count": null,
   "id": "8665b174",
   "metadata": {},
   "outputs": [],
   "source": []
  },
  {
   "cell_type": "code",
   "execution_count": null,
   "id": "fc5a5d3b",
   "metadata": {},
   "outputs": [],
   "source": [
    "#85"
   ]
  },
  {
   "cell_type": "code",
   "execution_count": 99,
   "id": "f348dd76",
   "metadata": {},
   "outputs": [
    {
     "data": {
      "text/plain": [
       "'series1:'"
      ]
     },
     "metadata": {},
     "output_type": "display_data"
    },
    {
     "data": {
      "text/plain": [
       "0    1\n",
       "1    2\n",
       "2    3\n",
       "dtype: int64"
      ]
     },
     "metadata": {},
     "output_type": "display_data"
    },
    {
     "data": {
      "text/plain": [
       "'series2:'"
      ]
     },
     "metadata": {},
     "output_type": "display_data"
    },
    {
     "data": {
      "text/plain": [
       "0    A\n",
       "1    B\n",
       "2    C\n",
       "dtype: object"
      ]
     },
     "metadata": {},
     "output_type": "display_data"
    },
    {
     "data": {
      "text/plain": [
       "'After concatenating:'"
      ]
     },
     "metadata": {},
     "output_type": "display_data"
    },
    {
     "data": {
      "text/plain": [
       "0    1\n",
       "1    2\n",
       "2    3\n",
       "0    A\n",
       "1    B\n",
       "2    C\n",
       "dtype: object"
      ]
     },
     "metadata": {},
     "output_type": "display_data"
    },
    {
     "name": "stderr",
     "output_type": "stream",
     "text": [
      "/var/folders/83/wyld6rbs37jg06dnrv50h1sh0000gn/T/ipykernel_39100/590138383.py:14: FutureWarning: The series.append method is deprecated and will be removed from pandas in a future version. Use pandas.concat instead.\n",
      "  display(series1.append(series2))\n"
     ]
    },
    {
     "data": {
      "text/plain": [
       "0    1\n",
       "1    2\n",
       "2    3\n",
       "0    A\n",
       "1    B\n",
       "2    C\n",
       "dtype: object"
      ]
     },
     "metadata": {},
     "output_type": "display_data"
    }
   ],
   "source": [
    "# importing the module\n",
    "import pandas as pd\n",
    "  \n",
    "# creating the Series\n",
    "series1 = pd.Series([1, 2, 3])\n",
    "display('series1:', series1)\n",
    "\n",
    "series2 = pd.Series(['A', 'B', 'C'])\n",
    "display('series2:', series2)\n",
    "  \n",
    "# concatenating\n",
    "display('After concatenating:')\n",
    "display(pd.concat([series1, series2]))\n",
    "display(series1.append(series2))\n"
   ]
  },
  {
   "cell_type": "code",
   "execution_count": null,
   "id": "7123af94",
   "metadata": {},
   "outputs": [],
   "source": []
  },
  {
   "cell_type": "code",
   "execution_count": 105,
   "id": "e401e58f",
   "metadata": {},
   "outputs": [],
   "source": [
    "import numpy as np\n",
    "import pandas as pd\n"
   ]
  },
  {
   "cell_type": "code",
   "execution_count": 107,
   "id": "dfc51523",
   "metadata": {},
   "outputs": [],
   "source": [
    "df=pd.DataFrame(np.random.randn(3,4),columns=['one','two','three','four'])\n",
    "df2=pd.DataFrame(np.random.randn(2,3),columns=['three','four','five'])\n",
    "ser=pd.Series(range(4))\n",
    "ser2=pd.Series(range(3))"
   ]
  },
  {
   "cell_type": "code",
   "execution_count": 109,
   "id": "af16e423",
   "metadata": {},
   "outputs": [
    {
     "data": {
      "text/plain": [
       "(        one       two     three      four\n",
       " 0  0.210216 -1.522710 -0.115503 -0.452442\n",
       " 1  0.960625 -1.163225 -1.589983 -0.773098\n",
       " 2 -1.743389  0.553028  0.349413 -1.855075,\n",
       "       three      four      five\n",
       " 0 -0.457219 -0.259434  0.005886\n",
       " 1 -0.527299  0.785317 -2.103085,\n",
       " 0    0\n",
       " 1    1\n",
       " 2    2\n",
       " 3    3\n",
       " dtype: int64,\n",
       " 0    0\n",
       " 1    1\n",
       " 2    2\n",
       " dtype: int64)"
      ]
     },
     "execution_count": 109,
     "metadata": {},
     "output_type": "execute_result"
    }
   ],
   "source": [
    "df,df2,ser,ser2"
   ]
  },
  {
   "cell_type": "code",
   "execution_count": 110,
   "id": "17af1435",
   "metadata": {},
   "outputs": [
    {
     "data": {
      "text/html": [
       "<div>\n",
       "<style scoped>\n",
       "    .dataframe tbody tr th:only-of-type {\n",
       "        vertical-align: middle;\n",
       "    }\n",
       "\n",
       "    .dataframe tbody tr th {\n",
       "        vertical-align: top;\n",
       "    }\n",
       "\n",
       "    .dataframe thead th {\n",
       "        text-align: right;\n",
       "    }\n",
       "</style>\n",
       "<table border=\"1\" class=\"dataframe\">\n",
       "  <thead>\n",
       "    <tr style=\"text-align: right;\">\n",
       "      <th></th>\n",
       "      <th>one</th>\n",
       "      <th>two</th>\n",
       "      <th>three</th>\n",
       "      <th>four</th>\n",
       "    </tr>\n",
       "  </thead>\n",
       "  <tbody>\n",
       "    <tr>\n",
       "      <th>0</th>\n",
       "      <td>0.210216</td>\n",
       "      <td>-1.522710</td>\n",
       "      <td>-0.115503</td>\n",
       "      <td>-0.452442</td>\n",
       "    </tr>\n",
       "    <tr>\n",
       "      <th>1</th>\n",
       "      <td>0.960625</td>\n",
       "      <td>-1.163225</td>\n",
       "      <td>-1.589983</td>\n",
       "      <td>-0.773098</td>\n",
       "    </tr>\n",
       "    <tr>\n",
       "      <th>2</th>\n",
       "      <td>-1.743389</td>\n",
       "      <td>0.553028</td>\n",
       "      <td>0.349413</td>\n",
       "      <td>-1.855075</td>\n",
       "    </tr>\n",
       "    <tr>\n",
       "      <th>0</th>\n",
       "      <td>0.210216</td>\n",
       "      <td>-1.522710</td>\n",
       "      <td>-0.115503</td>\n",
       "      <td>-0.452442</td>\n",
       "    </tr>\n",
       "    <tr>\n",
       "      <th>1</th>\n",
       "      <td>0.960625</td>\n",
       "      <td>-1.163225</td>\n",
       "      <td>-1.589983</td>\n",
       "      <td>-0.773098</td>\n",
       "    </tr>\n",
       "    <tr>\n",
       "      <th>2</th>\n",
       "      <td>-1.743389</td>\n",
       "      <td>0.553028</td>\n",
       "      <td>0.349413</td>\n",
       "      <td>-1.855075</td>\n",
       "    </tr>\n",
       "  </tbody>\n",
       "</table>\n",
       "</div>"
      ],
      "text/plain": [
       "        one       two     three      four\n",
       "0  0.210216 -1.522710 -0.115503 -0.452442\n",
       "1  0.960625 -1.163225 -1.589983 -0.773098\n",
       "2 -1.743389  0.553028  0.349413 -1.855075\n",
       "0  0.210216 -1.522710 -0.115503 -0.452442\n",
       "1  0.960625 -1.163225 -1.589983 -0.773098\n",
       "2 -1.743389  0.553028  0.349413 -1.855075"
      ]
     },
     "execution_count": 110,
     "metadata": {},
     "output_type": "execute_result"
    }
   ],
   "source": [
    "#1. concat\n",
    "pd.concat([df,df])"
   ]
  },
  {
   "cell_type": "code",
   "execution_count": 111,
   "id": "272d646a",
   "metadata": {},
   "outputs": [
    {
     "data": {
      "text/html": [
       "<div>\n",
       "<style scoped>\n",
       "    .dataframe tbody tr th:only-of-type {\n",
       "        vertical-align: middle;\n",
       "    }\n",
       "\n",
       "    .dataframe tbody tr th {\n",
       "        vertical-align: top;\n",
       "    }\n",
       "\n",
       "    .dataframe thead th {\n",
       "        text-align: right;\n",
       "    }\n",
       "</style>\n",
       "<table border=\"1\" class=\"dataframe\">\n",
       "  <thead>\n",
       "    <tr style=\"text-align: right;\">\n",
       "      <th></th>\n",
       "      <th>one</th>\n",
       "      <th>two</th>\n",
       "      <th>three</th>\n",
       "      <th>four</th>\n",
       "      <th>one</th>\n",
       "      <th>two</th>\n",
       "      <th>three</th>\n",
       "      <th>four</th>\n",
       "    </tr>\n",
       "  </thead>\n",
       "  <tbody>\n",
       "    <tr>\n",
       "      <th>0</th>\n",
       "      <td>0.210216</td>\n",
       "      <td>-1.522710</td>\n",
       "      <td>-0.115503</td>\n",
       "      <td>-0.452442</td>\n",
       "      <td>0.210216</td>\n",
       "      <td>-1.522710</td>\n",
       "      <td>-0.115503</td>\n",
       "      <td>-0.452442</td>\n",
       "    </tr>\n",
       "    <tr>\n",
       "      <th>1</th>\n",
       "      <td>0.960625</td>\n",
       "      <td>-1.163225</td>\n",
       "      <td>-1.589983</td>\n",
       "      <td>-0.773098</td>\n",
       "      <td>0.960625</td>\n",
       "      <td>-1.163225</td>\n",
       "      <td>-1.589983</td>\n",
       "      <td>-0.773098</td>\n",
       "    </tr>\n",
       "    <tr>\n",
       "      <th>2</th>\n",
       "      <td>-1.743389</td>\n",
       "      <td>0.553028</td>\n",
       "      <td>0.349413</td>\n",
       "      <td>-1.855075</td>\n",
       "      <td>-1.743389</td>\n",
       "      <td>0.553028</td>\n",
       "      <td>0.349413</td>\n",
       "      <td>-1.855075</td>\n",
       "    </tr>\n",
       "  </tbody>\n",
       "</table>\n",
       "</div>"
      ],
      "text/plain": [
       "        one       two     three      four       one       two     three  \\\n",
       "0  0.210216 -1.522710 -0.115503 -0.452442  0.210216 -1.522710 -0.115503   \n",
       "1  0.960625 -1.163225 -1.589983 -0.773098  0.960625 -1.163225 -1.589983   \n",
       "2 -1.743389  0.553028  0.349413 -1.855075 -1.743389  0.553028  0.349413   \n",
       "\n",
       "       four  \n",
       "0 -0.452442  \n",
       "1 -0.773098  \n",
       "2 -1.855075  "
      ]
     },
     "execution_count": 111,
     "metadata": {},
     "output_type": "execute_result"
    }
   ],
   "source": [
    "pd.concat([df,df],axis=1)"
   ]
  },
  {
   "cell_type": "code",
   "execution_count": 112,
   "id": "8d3c4e96",
   "metadata": {},
   "outputs": [
    {
     "data": {
      "text/html": [
       "<div>\n",
       "<style scoped>\n",
       "    .dataframe tbody tr th:only-of-type {\n",
       "        vertical-align: middle;\n",
       "    }\n",
       "\n",
       "    .dataframe tbody tr th {\n",
       "        vertical-align: top;\n",
       "    }\n",
       "\n",
       "    .dataframe thead th {\n",
       "        text-align: right;\n",
       "    }\n",
       "</style>\n",
       "<table border=\"1\" class=\"dataframe\">\n",
       "  <thead>\n",
       "    <tr style=\"text-align: right;\">\n",
       "      <th></th>\n",
       "      <th>one</th>\n",
       "      <th>two</th>\n",
       "      <th>three</th>\n",
       "      <th>four</th>\n",
       "      <th>five</th>\n",
       "    </tr>\n",
       "  </thead>\n",
       "  <tbody>\n",
       "    <tr>\n",
       "      <th>0</th>\n",
       "      <td>0.210216</td>\n",
       "      <td>-1.522710</td>\n",
       "      <td>-0.115503</td>\n",
       "      <td>-0.452442</td>\n",
       "      <td>NaN</td>\n",
       "    </tr>\n",
       "    <tr>\n",
       "      <th>1</th>\n",
       "      <td>0.960625</td>\n",
       "      <td>-1.163225</td>\n",
       "      <td>-1.589983</td>\n",
       "      <td>-0.773098</td>\n",
       "      <td>NaN</td>\n",
       "    </tr>\n",
       "    <tr>\n",
       "      <th>2</th>\n",
       "      <td>-1.743389</td>\n",
       "      <td>0.553028</td>\n",
       "      <td>0.349413</td>\n",
       "      <td>-1.855075</td>\n",
       "      <td>NaN</td>\n",
       "    </tr>\n",
       "    <tr>\n",
       "      <th>0</th>\n",
       "      <td>0.210216</td>\n",
       "      <td>-1.522710</td>\n",
       "      <td>-0.115503</td>\n",
       "      <td>-0.452442</td>\n",
       "      <td>NaN</td>\n",
       "    </tr>\n",
       "    <tr>\n",
       "      <th>1</th>\n",
       "      <td>0.960625</td>\n",
       "      <td>-1.163225</td>\n",
       "      <td>-1.589983</td>\n",
       "      <td>-0.773098</td>\n",
       "      <td>NaN</td>\n",
       "    </tr>\n",
       "    <tr>\n",
       "      <th>2</th>\n",
       "      <td>-1.743389</td>\n",
       "      <td>0.553028</td>\n",
       "      <td>0.349413</td>\n",
       "      <td>-1.855075</td>\n",
       "      <td>NaN</td>\n",
       "    </tr>\n",
       "    <tr>\n",
       "      <th>0</th>\n",
       "      <td>NaN</td>\n",
       "      <td>NaN</td>\n",
       "      <td>-0.457219</td>\n",
       "      <td>-0.259434</td>\n",
       "      <td>0.005886</td>\n",
       "    </tr>\n",
       "    <tr>\n",
       "      <th>1</th>\n",
       "      <td>NaN</td>\n",
       "      <td>NaN</td>\n",
       "      <td>-0.527299</td>\n",
       "      <td>0.785317</td>\n",
       "      <td>-2.103085</td>\n",
       "    </tr>\n",
       "  </tbody>\n",
       "</table>\n",
       "</div>"
      ],
      "text/plain": [
       "        one       two     three      four      five\n",
       "0  0.210216 -1.522710 -0.115503 -0.452442       NaN\n",
       "1  0.960625 -1.163225 -1.589983 -0.773098       NaN\n",
       "2 -1.743389  0.553028  0.349413 -1.855075       NaN\n",
       "0  0.210216 -1.522710 -0.115503 -0.452442       NaN\n",
       "1  0.960625 -1.163225 -1.589983 -0.773098       NaN\n",
       "2 -1.743389  0.553028  0.349413 -1.855075       NaN\n",
       "0       NaN       NaN -0.457219 -0.259434  0.005886\n",
       "1       NaN       NaN -0.527299  0.785317 -2.103085"
      ]
     },
     "execution_count": 112,
     "metadata": {},
     "output_type": "execute_result"
    }
   ],
   "source": [
    "pd.concat([df,df,df2])"
   ]
  },
  {
   "cell_type": "code",
   "execution_count": 113,
   "id": "ffc6c2e6",
   "metadata": {},
   "outputs": [
    {
     "data": {
      "text/html": [
       "<div>\n",
       "<style scoped>\n",
       "    .dataframe tbody tr th:only-of-type {\n",
       "        vertical-align: middle;\n",
       "    }\n",
       "\n",
       "    .dataframe tbody tr th {\n",
       "        vertical-align: top;\n",
       "    }\n",
       "\n",
       "    .dataframe thead th {\n",
       "        text-align: right;\n",
       "    }\n",
       "</style>\n",
       "<table border=\"1\" class=\"dataframe\">\n",
       "  <thead>\n",
       "    <tr style=\"text-align: right;\">\n",
       "      <th></th>\n",
       "      <th>onex</th>\n",
       "      <th>twox</th>\n",
       "      <th>threex</th>\n",
       "      <th>fourx</th>\n",
       "      <th>one</th>\n",
       "      <th>two</th>\n",
       "      <th>three</th>\n",
       "      <th>four</th>\n",
       "    </tr>\n",
       "  </thead>\n",
       "  <tbody>\n",
       "    <tr>\n",
       "      <th>0</th>\n",
       "      <td>0.210216</td>\n",
       "      <td>-1.522710</td>\n",
       "      <td>-0.115503</td>\n",
       "      <td>-0.452442</td>\n",
       "      <td>0.210216</td>\n",
       "      <td>-1.522710</td>\n",
       "      <td>-0.115503</td>\n",
       "      <td>-0.452442</td>\n",
       "    </tr>\n",
       "    <tr>\n",
       "      <th>1</th>\n",
       "      <td>0.960625</td>\n",
       "      <td>-1.163225</td>\n",
       "      <td>-1.589983</td>\n",
       "      <td>-0.773098</td>\n",
       "      <td>0.960625</td>\n",
       "      <td>-1.163225</td>\n",
       "      <td>-1.589983</td>\n",
       "      <td>-0.773098</td>\n",
       "    </tr>\n",
       "    <tr>\n",
       "      <th>2</th>\n",
       "      <td>-1.743389</td>\n",
       "      <td>0.553028</td>\n",
       "      <td>0.349413</td>\n",
       "      <td>-1.855075</td>\n",
       "      <td>-1.743389</td>\n",
       "      <td>0.553028</td>\n",
       "      <td>0.349413</td>\n",
       "      <td>-1.855075</td>\n",
       "    </tr>\n",
       "  </tbody>\n",
       "</table>\n",
       "</div>"
      ],
      "text/plain": [
       "       onex      twox    threex     fourx       one       two     three  \\\n",
       "0  0.210216 -1.522710 -0.115503 -0.452442  0.210216 -1.522710 -0.115503   \n",
       "1  0.960625 -1.163225 -1.589983 -0.773098  0.960625 -1.163225 -1.589983   \n",
       "2 -1.743389  0.553028  0.349413 -1.855075 -1.743389  0.553028  0.349413   \n",
       "\n",
       "       four  \n",
       "0 -0.452442  \n",
       "1 -0.773098  \n",
       "2 -1.855075  "
      ]
     },
     "execution_count": 113,
     "metadata": {},
     "output_type": "execute_result"
    }
   ],
   "source": [
    "#2.join dataframe 中可以用相同的索引为键join， series无此用法\n",
    "df.join(df,lsuffix='x')\n"
   ]
  },
  {
   "cell_type": "code",
   "execution_count": null,
   "id": "c471e37f",
   "metadata": {},
   "outputs": [],
   "source": [
    "#3.append"
   ]
  },
  {
   "cell_type": "code",
   "execution_count": 114,
   "id": "b30ce123",
   "metadata": {},
   "outputs": [
    {
     "name": "stderr",
     "output_type": "stream",
     "text": [
      "/var/folders/83/wyld6rbs37jg06dnrv50h1sh0000gn/T/ipykernel_39100/443893503.py:1: FutureWarning: The frame.append method is deprecated and will be removed from pandas in a future version. Use pandas.concat instead.\n",
      "  df.append(df)\n"
     ]
    },
    {
     "data": {
      "text/html": [
       "<div>\n",
       "<style scoped>\n",
       "    .dataframe tbody tr th:only-of-type {\n",
       "        vertical-align: middle;\n",
       "    }\n",
       "\n",
       "    .dataframe tbody tr th {\n",
       "        vertical-align: top;\n",
       "    }\n",
       "\n",
       "    .dataframe thead th {\n",
       "        text-align: right;\n",
       "    }\n",
       "</style>\n",
       "<table border=\"1\" class=\"dataframe\">\n",
       "  <thead>\n",
       "    <tr style=\"text-align: right;\">\n",
       "      <th></th>\n",
       "      <th>one</th>\n",
       "      <th>two</th>\n",
       "      <th>three</th>\n",
       "      <th>four</th>\n",
       "    </tr>\n",
       "  </thead>\n",
       "  <tbody>\n",
       "    <tr>\n",
       "      <th>0</th>\n",
       "      <td>0.210216</td>\n",
       "      <td>-1.522710</td>\n",
       "      <td>-0.115503</td>\n",
       "      <td>-0.452442</td>\n",
       "    </tr>\n",
       "    <tr>\n",
       "      <th>1</th>\n",
       "      <td>0.960625</td>\n",
       "      <td>-1.163225</td>\n",
       "      <td>-1.589983</td>\n",
       "      <td>-0.773098</td>\n",
       "    </tr>\n",
       "    <tr>\n",
       "      <th>2</th>\n",
       "      <td>-1.743389</td>\n",
       "      <td>0.553028</td>\n",
       "      <td>0.349413</td>\n",
       "      <td>-1.855075</td>\n",
       "    </tr>\n",
       "    <tr>\n",
       "      <th>0</th>\n",
       "      <td>0.210216</td>\n",
       "      <td>-1.522710</td>\n",
       "      <td>-0.115503</td>\n",
       "      <td>-0.452442</td>\n",
       "    </tr>\n",
       "    <tr>\n",
       "      <th>1</th>\n",
       "      <td>0.960625</td>\n",
       "      <td>-1.163225</td>\n",
       "      <td>-1.589983</td>\n",
       "      <td>-0.773098</td>\n",
       "    </tr>\n",
       "    <tr>\n",
       "      <th>2</th>\n",
       "      <td>-1.743389</td>\n",
       "      <td>0.553028</td>\n",
       "      <td>0.349413</td>\n",
       "      <td>-1.855075</td>\n",
       "    </tr>\n",
       "  </tbody>\n",
       "</table>\n",
       "</div>"
      ],
      "text/plain": [
       "        one       two     three      four\n",
       "0  0.210216 -1.522710 -0.115503 -0.452442\n",
       "1  0.960625 -1.163225 -1.589983 -0.773098\n",
       "2 -1.743389  0.553028  0.349413 -1.855075\n",
       "0  0.210216 -1.522710 -0.115503 -0.452442\n",
       "1  0.960625 -1.163225 -1.589983 -0.773098\n",
       "2 -1.743389  0.553028  0.349413 -1.855075"
      ]
     },
     "execution_count": 114,
     "metadata": {},
     "output_type": "execute_result"
    }
   ],
   "source": [
    "df.append(df)"
   ]
  },
  {
   "cell_type": "code",
   "execution_count": 115,
   "id": "2d527eb4",
   "metadata": {},
   "outputs": [
    {
     "name": "stderr",
     "output_type": "stream",
     "text": [
      "/var/folders/83/wyld6rbs37jg06dnrv50h1sh0000gn/T/ipykernel_39100/3471156502.py:1: FutureWarning: The series.append method is deprecated and will be removed from pandas in a future version. Use pandas.concat instead.\n",
      "  ser.append(ser2)\n"
     ]
    },
    {
     "data": {
      "text/plain": [
       "0    0\n",
       "1    1\n",
       "2    2\n",
       "3    3\n",
       "0    0\n",
       "1    1\n",
       "2    2\n",
       "dtype: int64"
      ]
     },
     "execution_count": 115,
     "metadata": {},
     "output_type": "execute_result"
    }
   ],
   "source": [
    "ser.append(ser2)"
   ]
  },
  {
   "cell_type": "code",
   "execution_count": null,
   "id": "cc473640",
   "metadata": {},
   "outputs": [],
   "source": [
    "#4 merge"
   ]
  },
  {
   "cell_type": "code",
   "execution_count": 125,
   "id": "a58b2a65",
   "metadata": {},
   "outputs": [
    {
     "data": {
      "text/html": [
       "<div>\n",
       "<style scoped>\n",
       "    .dataframe tbody tr th:only-of-type {\n",
       "        vertical-align: middle;\n",
       "    }\n",
       "\n",
       "    .dataframe tbody tr th {\n",
       "        vertical-align: top;\n",
       "    }\n",
       "\n",
       "    .dataframe thead th {\n",
       "        text-align: right;\n",
       "    }\n",
       "</style>\n",
       "<table border=\"1\" class=\"dataframe\">\n",
       "  <thead>\n",
       "    <tr style=\"text-align: right;\">\n",
       "      <th></th>\n",
       "      <th>one</th>\n",
       "      <th>two</th>\n",
       "      <th>three</th>\n",
       "      <th>four</th>\n",
       "      <th>five</th>\n",
       "    </tr>\n",
       "  </thead>\n",
       "  <tbody>\n",
       "    <tr>\n",
       "      <th>0</th>\n",
       "      <td>0.210216</td>\n",
       "      <td>-1.522710</td>\n",
       "      <td>-0.115503</td>\n",
       "      <td>-0.452442</td>\n",
       "      <td>NaN</td>\n",
       "    </tr>\n",
       "    <tr>\n",
       "      <th>1</th>\n",
       "      <td>0.960625</td>\n",
       "      <td>-1.163225</td>\n",
       "      <td>-1.589983</td>\n",
       "      <td>-0.773098</td>\n",
       "      <td>NaN</td>\n",
       "    </tr>\n",
       "    <tr>\n",
       "      <th>2</th>\n",
       "      <td>-1.743389</td>\n",
       "      <td>0.553028</td>\n",
       "      <td>0.349413</td>\n",
       "      <td>-1.855075</td>\n",
       "      <td>NaN</td>\n",
       "    </tr>\n",
       "    <tr>\n",
       "      <th>3</th>\n",
       "      <td>NaN</td>\n",
       "      <td>NaN</td>\n",
       "      <td>-0.457219</td>\n",
       "      <td>-0.259434</td>\n",
       "      <td>0.005886</td>\n",
       "    </tr>\n",
       "    <tr>\n",
       "      <th>4</th>\n",
       "      <td>NaN</td>\n",
       "      <td>NaN</td>\n",
       "      <td>-0.527299</td>\n",
       "      <td>0.785317</td>\n",
       "      <td>-2.103085</td>\n",
       "    </tr>\n",
       "  </tbody>\n",
       "</table>\n",
       "</div>"
      ],
      "text/plain": [
       "        one       two     three      four      five\n",
       "0  0.210216 -1.522710 -0.115503 -0.452442       NaN\n",
       "1  0.960625 -1.163225 -1.589983 -0.773098       NaN\n",
       "2 -1.743389  0.553028  0.349413 -1.855075       NaN\n",
       "3       NaN       NaN -0.457219 -0.259434  0.005886\n",
       "4       NaN       NaN -0.527299  0.785317 -2.103085"
      ]
     },
     "execution_count": 125,
     "metadata": {},
     "output_type": "execute_result"
    }
   ],
   "source": [
    "a=df.merge(df2,how='outer')\n",
    "a"
   ]
  },
  {
   "cell_type": "code",
   "execution_count": 126,
   "id": "8671365c",
   "metadata": {},
   "outputs": [
    {
     "data": {
      "text/html": [
       "<div>\n",
       "<style scoped>\n",
       "    .dataframe tbody tr th:only-of-type {\n",
       "        vertical-align: middle;\n",
       "    }\n",
       "\n",
       "    .dataframe tbody tr th {\n",
       "        vertical-align: top;\n",
       "    }\n",
       "\n",
       "    .dataframe thead th {\n",
       "        text-align: right;\n",
       "    }\n",
       "</style>\n",
       "<table border=\"1\" class=\"dataframe\">\n",
       "  <thead>\n",
       "    <tr style=\"text-align: right;\">\n",
       "      <th></th>\n",
       "      <th>one</th>\n",
       "      <th>two</th>\n",
       "      <th>three</th>\n",
       "      <th>four</th>\n",
       "      <th>five</th>\n",
       "    </tr>\n",
       "  </thead>\n",
       "  <tbody>\n",
       "  </tbody>\n",
       "</table>\n",
       "</div>"
      ],
      "text/plain": [
       "Empty DataFrame\n",
       "Columns: [one, two, three, four, five]\n",
       "Index: []"
      ]
     },
     "execution_count": 126,
     "metadata": {},
     "output_type": "execute_result"
    }
   ],
   "source": [
    "df.merge(df2,how='inner')"
   ]
  },
  {
   "cell_type": "code",
   "execution_count": 127,
   "id": "7df14f0b",
   "metadata": {},
   "outputs": [],
   "source": [
    "#5 缺失数值优先补全combine_first"
   ]
  },
  {
   "cell_type": "code",
   "execution_count": 128,
   "id": "650280d7",
   "metadata": {},
   "outputs": [
    {
     "data": {
      "text/plain": [
       "0    0.210216\n",
       "1    0.960625\n",
       "2   -1.743389\n",
       "3   -0.457219\n",
       "4   -0.527299\n",
       "Name: one, dtype: float64"
      ]
     },
     "execution_count": 128,
     "metadata": {},
     "output_type": "execute_result"
    }
   ],
   "source": [
    "df.one.combine_first(df.merge(df2,how='outer').three)"
   ]
  },
  {
   "cell_type": "code",
   "execution_count": 129,
   "id": "16aca955",
   "metadata": {},
   "outputs": [
    {
     "data": {
      "text/plain": [
       "0    0.210216\n",
       "1    0.960625\n",
       "2   -1.743389\n",
       "3    0.005886\n",
       "4   -2.103085\n",
       "Name: one, dtype: float64"
      ]
     },
     "execution_count": 129,
     "metadata": {},
     "output_type": "execute_result"
    }
   ],
   "source": [
    "df.one.combine_first(df.merge(df2,how='outer').five)"
   ]
  },
  {
   "cell_type": "code",
   "execution_count": 131,
   "id": "440f534d",
   "metadata": {},
   "outputs": [
    {
     "data": {
      "text/plain": [
       "0    0.210216\n",
       "1    0.960625\n",
       "2   -1.743389\n",
       "3    0.005886\n",
       "4   -2.103085\n",
       "Name: five, dtype: float64"
      ]
     },
     "execution_count": 131,
     "metadata": {},
     "output_type": "execute_result"
    }
   ],
   "source": [
    "a.five.combine_first(a.one)"
   ]
  },
  {
   "cell_type": "code",
   "execution_count": 119,
   "id": "33f7bed7",
   "metadata": {},
   "outputs": [
    {
     "data": {
      "text/plain": [
       "0   -0.115503\n",
       "1   -1.589983\n",
       "2    0.349413\n",
       "3   -0.457219\n",
       "4   -0.527299\n",
       "Name: three, dtype: float64"
      ]
     },
     "execution_count": 119,
     "metadata": {},
     "output_type": "execute_result"
    }
   ],
   "source": [
    "df.merge(df2,how='outer').three"
   ]
  },
  {
   "cell_type": "code",
   "execution_count": null,
   "id": "aca844f0",
   "metadata": {},
   "outputs": [],
   "source": []
  }
 ],
 "metadata": {
  "kernelspec": {
   "display_name": "Python 3 (ipykernel)",
   "language": "python",
   "name": "python3"
  },
  "language_info": {
   "codemirror_mode": {
    "name": "ipython",
    "version": 3
   },
   "file_extension": ".py",
   "mimetype": "text/x-python",
   "name": "python",
   "nbconvert_exporter": "python",
   "pygments_lexer": "ipython3",
   "version": "3.9.7"
  }
 },
 "nbformat": 4,
 "nbformat_minor": 5
}
